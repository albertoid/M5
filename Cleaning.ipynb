{
 "cells": [
  {
   "cell_type": "markdown",
   "metadata": {},
   "source": [
    "# Data Cleaning M5 Forecasting - Accuracy"
   ]
  },
  {
   "cell_type": "code",
   "execution_count": 1,
   "metadata": {},
   "outputs": [
    {
     "name": "stdout",
     "output_type": "stream",
     "text": [
      "Python 3.6.10 :: Anaconda, Inc.\r\n"
     ]
    }
   ],
   "source": [
    "#Use Python 3.6\n",
    "!python --version"
   ]
  },
  {
   "cell_type": "code",
   "execution_count": 2,
   "metadata": {},
   "outputs": [],
   "source": [
    "import pandas as pd\n",
    "import numpy as np\n",
    "from tqdm import tqdm_notebook as tqdm\n",
    "#from tqdm import tqdm as tqdm\n",
    "import warnings\n",
    "warnings.filterwarnings('ignore')\n",
    "import pickle\n",
    "import multiprocessing as mp\n",
    "import os\n",
    "import dask\n",
    "import dask.dataframe as dd"
   ]
  },
  {
   "cell_type": "code",
   "execution_count": 3,
   "metadata": {},
   "outputs": [],
   "source": [
    "df_cal=pd.read_csv('a/calendar.csv')\n",
    "df_sat=pd.read_csv('a/sales_train_validation.csv')\n",
    "df_sam=pd.read_csv('a/sample_submission.csv')\n",
    "df_sep=pd.read_csv('a/sell_prices.csv')"
   ]
  },
  {
   "cell_type": "markdown",
   "metadata": {},
   "source": [
    "## Summary of Steps of Cleaning\n",
    "\n",
    "1. Extraction of days from sales_train_validation\n",
    "2. Creation of dummies calendar with event's types, weekdays, months, snaps and wm_yr_wk (will remove later)\n",
    "3. Creation of series for prices depending the week (wm_yr_wk)\n",
    "4. Remove all wm_yr_wk\n",
    "5. Integration of all the products/store\n",
    "\n"
   ]
  },
  {
   "cell_type": "code",
   "execution_count": 4,
   "metadata": {},
   "outputs": [
    {
     "data": {
      "text/plain": [
       "(30490, 1919)"
      ]
     },
     "execution_count": 4,
     "metadata": {},
     "output_type": "execute_result"
    }
   ],
   "source": [
    "df_sat.shape"
   ]
  },
  {
   "cell_type": "code",
   "execution_count": 5,
   "metadata": {},
   "outputs": [
    {
     "data": {
      "text/plain": [
       "(60980, 29)"
      ]
     },
     "execution_count": 5,
     "metadata": {},
     "output_type": "execute_result"
    }
   ],
   "source": [
    "df_sam.shape"
   ]
  },
  {
   "cell_type": "markdown",
   "metadata": {},
   "source": [
    "## Submission File Structure\n",
    "\n",
    "This file has the double of registers of products/stores due to the the first half is dedicated to the validation registers corresponding to the days 1 to 28 of preduction (days 1914 to 1941) corresponding to the validation sample, and the second part corresponding to the evaluation are the days 29 to 56 (days 1942 to 1969)\n",
    "\n",
    "index | id | F1 | F2 | ... | F28\n",
    "----- | -- | -- | -- | --- | ---\n",
    "0  | HOBBIES_1_001_CA_1_validation | Yv0(F1) | Yv0(F2) | ... | Yv0(F28)\n",
    "1  | HOBBIES_1_002_CA_1_validation | Yv1(F1) | Yv1(F2) | ... | Yv1(F28)\n",
    "...\n",
    "30489 | FOODS_3_827_WI_3_validation | Yv30489(F1) | Yv30489(F2) | ... | Yv30489(F28)\n",
    "30490 | HOBBIES_1_001_CA_1_evaluation | Ye0(F1) | Ye0(F2) | ... | Ye0(F28)\n",
    "30491 | HOBBIES_1_001_CA_1_evaluation | Ye1(F1) | Ye1(F2) | ... | Ye1(F28)\n",
    "... \n",
    "60979 | FOODS_3_827_WI_3_evaluation | Ye30489(F1) | Ye30489(F2) | ... | Ye30489(F28)\n"
   ]
  },
  {
   "cell_type": "markdown",
   "metadata": {},
   "source": [
    "## Step 1"
   ]
  },
  {
   "cell_type": "code",
   "execution_count": 6,
   "metadata": {},
   "outputs": [],
   "source": [
    "df_sat_d=df_sat.drop(columns=['id', 'item_id', 'dept_id', 'cat_id', 'store_id', 'state_id'])\n",
    "def day_data(item_index,fillval=None): #item index of product/store\n",
    "    #Extraccion de dia(s) y transposición\n",
    "    df_sell=df_sat_d.iloc[item_index].T\n",
    "    df_sell.reset_index(drop=True,inplace=True,name='day_sell')\n",
    "    \n",
    "    #Completar la serie para igualar el numero de registros de dias\n",
    "    for i in range(56):\n",
    "        df_sell=df_sell.append(pd.Series([fillval]))\n",
    "    \n",
    "    return df_sell"
   ]
  },
  {
   "cell_type": "markdown",
   "metadata": {},
   "source": [
    "## Step 2"
   ]
  },
  {
   "cell_type": "code",
   "execution_count": 7,
   "metadata": {},
   "outputs": [],
   "source": [
    "#calendario dummies\n",
    "df_cal.month=df_cal.month.apply(lambda x:str(x))\n",
    "df_cal_dum=pd.get_dummies(df_cal[['event_type_1','event_type_2','weekday','month','snap_CA','snap_TX','snap_WI','wm_yr_wk']])\n",
    "\n",
    "def add_cal(df_sell, df_data=df_cal_dum.copy()):\n",
    "    #Integracion de las ventas al Set de datos\n",
    "    df_data['day_sell']=df_sell.values\n",
    "    #Cambio de tipo de datos\n",
    "    df_data.day_sell=df_data.day_sell.apply(lambda x: int(x) if x!= None else None)\n",
    "    return (df_data)\n"
   ]
  },
  {
   "cell_type": "markdown",
   "metadata": {},
   "source": [
    "## Step 3"
   ]
  },
  {
   "cell_type": "code",
   "execution_count": 8,
   "metadata": {},
   "outputs": [],
   "source": [
    "#Funcion para el calculo de wm_yr_wk\n",
    "#Regresa indice del rango de los dias de la semana wm_yr_wk de la semana dada\n",
    "\n",
    "def range_days_week(wm_yr_wk):\n",
    "    dn=list(df_cal.wm_yr_wk.unique()).index(wm_yr_wk)*7\n",
    "    return dn, dn+7\n"
   ]
  },
  {
   "cell_type": "code",
   "execution_count": 9,
   "metadata": {},
   "outputs": [],
   "source": [
    "#Creacion de Serie de precios de venta segun semana Walmart\n",
    "\n",
    "def sell_price_series(item_index, df_data, no_value=None):\n",
    "    #Temporal variable for the query who has the item and store in the prices table\n",
    "    temp = df_sep[(df_sep.store_id==df_sat['store_id'].iloc[item_index])&(df_sep.item_id==df_sat['item_id'].iloc[item_index])]\n",
    "    \n",
    "    #Create Clean Series\n",
    "    series_length=1969\n",
    "    output = pd.Series(list( no_value for i in range(series_length)))\n",
    "    \n",
    "    #Write the prices in the intervals corresponding every week who has values\n",
    "    \n",
    "    for i in range(len(temp.wm_yr_wk.unique())):\n",
    "        output.iloc[range_days_week(temp.wm_yr_wk.unique()[i])[0]:range_days_week(temp.wm_yr_wk.unique()[i])[1]]=\\\n",
    "        temp.sell_price[temp.wm_yr_wk==temp.wm_yr_wk.unique()[i]].values[0]\n",
    "        \n",
    "    df_data['sell_price']=output.values\n",
    "    \n",
    "    \n",
    "    return df_data"
   ]
  },
  {
   "cell_type": "markdown",
   "metadata": {},
   "source": [
    "## Step 4"
   ]
  },
  {
   "cell_type": "code",
   "execution_count": 10,
   "metadata": {},
   "outputs": [],
   "source": [
    "def remove_wm_yr_wk(df_data):\n",
    "    df_data = df_data.drop(columns=['wm_yr_wk'])\n",
    "    return df_data"
   ]
  },
  {
   "cell_type": "markdown",
   "metadata": {},
   "source": [
    "## Step 5"
   ]
  },
  {
   "cell_type": "code",
   "execution_count": 11,
   "metadata": {},
   "outputs": [],
   "source": [
    "def data_cleaning(i):\n",
    "#def data_cleaning(nprod=len(df_sat)):\n",
    "    #list_df_sell = []\n",
    "    #for i in tqdm(range(nprod)):\n",
    "    df_sell = day_data(i) #Step 1\n",
    "    df_data = add_cal(df_sell) # Step 2\n",
    "    df_data = sell_price_series(i,df_data) #Step 3\n",
    "    df_data = remove_wm_yr_wk(df_data) #Step 4\n",
    "    #list_df_sell.append(df_data) #Step 5\n",
    "    #return list_df_sell\n",
    "    return df_data"
   ]
  },
  {
   "cell_type": "code",
   "execution_count": 14,
   "metadata": {},
   "outputs": [
    {
     "name": "stdout",
     "output_type": "stream",
     "text": [
      "CPU times: user 38.2 s, sys: 12.6 s, total: 50.8 s\n",
      "Wall time: 2h 14min 23s\n"
     ]
    }
   ],
   "source": [
    "%%time\n",
    "nprod=len(df_sat)\n",
    "pool = mp.Pool(mp.cpu_count())\n",
    "list_df_sell = pool.map(data_cleaning,[i for i in range(nprod)])\n",
    "pool.close()\n"
   ]
  },
  {
   "cell_type": "code",
   "execution_count": 15,
   "metadata": {},
   "outputs": [],
   "source": [
    "#Saving the clean data\n",
    "\n",
    "import pickle\n",
    "pickle_file=open('list_df_sell.pickle','wb')\n",
    "pickle.dump(list_df_sell,pickle_file)"
   ]
  },
  {
   "cell_type": "code",
   "execution_count": 12,
   "metadata": {},
   "outputs": [
    {
     "data": {
      "text/plain": [
       "30490"
      ]
     },
     "execution_count": 12,
     "metadata": {},
     "output_type": "execute_result"
    }
   ],
   "source": [
    "len(df_sat)"
   ]
  },
  {
   "cell_type": "markdown",
   "metadata": {},
   "source": [
    "# Prepare Data Set for models"
   ]
  },
  {
   "cell_type": "code",
   "execution_count": 7,
   "metadata": {},
   "outputs": [],
   "source": [
    "#Utilidades\n",
    "from sklearn.model_selection import train_test_split as TTS\n",
    "from sklearn.metrics import mean_squared_error as MSE\n",
    "\n",
    "#Modelos\n",
    "from sklearn.ensemble import RandomForestRegressor as RFR\n",
    "from sklearn.linear_model import BayesianRidge as BR\n",
    "from sklearn.tree import DecisionTreeRegressor as DTR\n",
    "from sklearn.ensemble import AdaBoostRegressor as ABR\n",
    "from sklearn.ensemble import BaggingRegressor as BaR\n",
    "from sklearn.ensemble import GradientBoostingRegressor as GBR\n",
    "from sklearn.ensemble import StackingRegressor as SR\n",
    "from sklearn.ensemble import VotingRegressor as VR\n",
    "#from sklearn.ensemble import HistGradientBoostingRegressor as HGBR\n",
    "\n"
   ]
  },
  {
   "cell_type": "code",
   "execution_count": null,
   "metadata": {},
   "outputs": [],
   "source": []
  },
  {
   "cell_type": "code",
   "execution_count": 64,
   "metadata": {},
   "outputs": [],
   "source": [
    "X,y = df_data.drop(columns=['day_sell'])[:1912], df_data.day_sell[:1912]\n",
    "X_train, X_test, y_train, y_test = TTS(X,y, test_size = 0.2, shuffle=False)"
   ]
  },
  {
   "cell_type": "code",
   "execution_count": 15,
   "metadata": {},
   "outputs": [
    {
     "data": {
      "text/plain": [
       "0.9578757556443264"
      ]
     },
     "execution_count": 15,
     "metadata": {},
     "output_type": "execute_result"
    }
   ],
   "source": [
    "rfr=RFR()\n",
    "rfr.fit(X_train,y_train)\n",
    "y_pred=rfr.predict(X_test)\n",
    "MSE(y_test,y_pred)"
   ]
  },
  {
   "cell_type": "code",
   "execution_count": 16,
   "metadata": {},
   "outputs": [
    {
     "data": {
      "text/plain": [
       "0.8799307717714824"
      ]
     },
     "execution_count": 16,
     "metadata": {},
     "output_type": "execute_result"
    }
   ],
   "source": [
    "br=BR()\n",
    "br.fit(X_train,y_train)\n",
    "y_pred=br.predict(X_test)\n",
    "MSE(y_test,y_pred)"
   ]
  },
  {
   "cell_type": "code",
   "execution_count": 17,
   "metadata": {},
   "outputs": [
    {
     "data": {
      "text/plain": [
       "1.1431077748767045"
      ]
     },
     "execution_count": 17,
     "metadata": {},
     "output_type": "execute_result"
    }
   ],
   "source": [
    "dtr=DTR()\n",
    "dtr.fit(X_train,y_train)\n",
    "y_pred=dtr.predict(X_test)\n",
    "MSE(y_test,y_pred)"
   ]
  },
  {
   "cell_type": "code",
   "execution_count": 18,
   "metadata": {},
   "outputs": [
    {
     "data": {
      "text/plain": [
       "0.8850245763618101"
      ]
     },
     "execution_count": 18,
     "metadata": {},
     "output_type": "execute_result"
    }
   ],
   "source": [
    "abr=ABR()\n",
    "abr.fit(X_train,y_train)\n",
    "y_pred=abr.predict(X_test)\n",
    "MSE(y_test,y_pred)"
   ]
  },
  {
   "cell_type": "code",
   "execution_count": 19,
   "metadata": {},
   "outputs": [
    {
     "data": {
      "text/plain": [
       "1.000630169610951"
      ]
     },
     "execution_count": 19,
     "metadata": {},
     "output_type": "execute_result"
    }
   ],
   "source": [
    "bar=BaR()\n",
    "bar.fit(X_train,y_train)\n",
    "y_pred=bar.predict(X_test)\n",
    "MSE(y_test,y_pred)"
   ]
  },
  {
   "cell_type": "code",
   "execution_count": 20,
   "metadata": {},
   "outputs": [
    {
     "data": {
      "text/plain": [
       "0.9811524125823093"
      ]
     },
     "execution_count": 20,
     "metadata": {},
     "output_type": "execute_result"
    }
   ],
   "source": [
    "bar=BaR()\n",
    "bar.fit(X_train,y_train)\n",
    "y_pred=bar.predict(X_test)\n",
    "MSE(y_test,y_pred)"
   ]
  },
  {
   "cell_type": "code",
   "execution_count": 21,
   "metadata": {},
   "outputs": [
    {
     "data": {
      "text/plain": [
       "0.8801007145867064"
      ]
     },
     "execution_count": 21,
     "metadata": {},
     "output_type": "execute_result"
    }
   ],
   "source": [
    "gbr=GBR()\n",
    "gbr.fit(X_train,y_train)\n",
    "y_pred=gbr.predict(X_test)\n",
    "MSE(y_test,y_pred)"
   ]
  },
  {
   "cell_type": "code",
   "execution_count": null,
   "metadata": {},
   "outputs": [],
   "source": []
  },
  {
   "cell_type": "code",
   "execution_count": 78,
   "metadata": {},
   "outputs": [],
   "source": []
  },
  {
   "cell_type": "markdown",
   "metadata": {},
   "source": [
    "### H2O"
   ]
  },
  {
   "cell_type": "code",
   "execution_count": 23,
   "metadata": {},
   "outputs": [],
   "source": [
    "import h2o\n",
    "from h2o.automl import H2OAutoML"
   ]
  },
  {
   "cell_type": "code",
   "execution_count": 104,
   "metadata": {},
   "outputs": [
    {
     "name": "stdout",
     "output_type": "stream",
     "text": [
      "Checking whether there is an H2O instance running at http://localhost:54321 . connected.\n",
      "Warning: Your H2O cluster version is too old (10 months and 19 days)! Please download and install the latest version from http://h2o.ai/download/\n"
     ]
    },
    {
     "data": {
      "text/html": [
       "<div style=\"overflow:auto\"><table style=\"width:50%\"><tr><td>H2O cluster uptime:</td>\n",
       "<td>14 hours 17 mins</td></tr>\n",
       "<tr><td>H2O cluster timezone:</td>\n",
       "<td>America/Mexico_City</td></tr>\n",
       "<tr><td>H2O data parsing timezone:</td>\n",
       "<td>UTC</td></tr>\n",
       "<tr><td>H2O cluster version:</td>\n",
       "<td>3.24.0.3</td></tr>\n",
       "<tr><td>H2O cluster version age:</td>\n",
       "<td>10 months and 19 days !!!</td></tr>\n",
       "<tr><td>H2O cluster name:</td>\n",
       "<td>H2O_from_python_al_af72yp</td></tr>\n",
       "<tr><td>H2O cluster total nodes:</td>\n",
       "<td>1</td></tr>\n",
       "<tr><td>H2O cluster free memory:</td>\n",
       "<td>1.997 Gb</td></tr>\n",
       "<tr><td>H2O cluster total cores:</td>\n",
       "<td>4</td></tr>\n",
       "<tr><td>H2O cluster allowed cores:</td>\n",
       "<td>4</td></tr>\n",
       "<tr><td>H2O cluster status:</td>\n",
       "<td>locked, healthy</td></tr>\n",
       "<tr><td>H2O connection url:</td>\n",
       "<td>http://localhost:54321</td></tr>\n",
       "<tr><td>H2O connection proxy:</td>\n",
       "<td>None</td></tr>\n",
       "<tr><td>H2O internal security:</td>\n",
       "<td>False</td></tr>\n",
       "<tr><td>H2O API Extensions:</td>\n",
       "<td>Amazon S3, XGBoost, Algos, AutoML, Core V3, Core V4</td></tr>\n",
       "<tr><td>Python version:</td>\n",
       "<td>3.6.10 final</td></tr></table></div>"
      ],
      "text/plain": [
       "--------------------------  ---------------------------------------------------\n",
       "H2O cluster uptime:         14 hours 17 mins\n",
       "H2O cluster timezone:       America/Mexico_City\n",
       "H2O data parsing timezone:  UTC\n",
       "H2O cluster version:        3.24.0.3\n",
       "H2O cluster version age:    10 months and 19 days !!!\n",
       "H2O cluster name:           H2O_from_python_al_af72yp\n",
       "H2O cluster total nodes:    1\n",
       "H2O cluster free memory:    1.997 Gb\n",
       "H2O cluster total cores:    4\n",
       "H2O cluster allowed cores:  4\n",
       "H2O cluster status:         locked, healthy\n",
       "H2O connection url:         http://localhost:54321\n",
       "H2O connection proxy:\n",
       "H2O internal security:      False\n",
       "H2O API Extensions:         Amazon S3, XGBoost, Algos, AutoML, Core V3, Core V4\n",
       "Python version:             3.6.10 final\n",
       "--------------------------  ---------------------------------------------------"
      ]
     },
     "metadata": {},
     "output_type": "display_data"
    }
   ],
   "source": [
    "h2o.init()"
   ]
  },
  {
   "cell_type": "code",
   "execution_count": 121,
   "metadata": {},
   "outputs": [],
   "source": [
    "train=X_train.copy()\n",
    "train.insert(29,'y_',y_train)\n",
    "test=X_test.copy()\n",
    "test.insert(29,'y_',y_test)"
   ]
  },
  {
   "cell_type": "code",
   "execution_count": 122,
   "metadata": {},
   "outputs": [
    {
     "name": "stdout",
     "output_type": "stream",
     "text": [
      "Parse progress: |█████████████████████████████████████████████████████████| 100%\n",
      "Parse progress: |█████████████████████████████████████████████████████████| 100%\n"
     ]
    }
   ],
   "source": [
    "train = h2o.H2OFrame(train)\n",
    "test = h2o.H2OFrame(test)"
   ]
  },
  {
   "cell_type": "code",
   "execution_count": 123,
   "metadata": {},
   "outputs": [],
   "source": [
    "X=train.columns\n",
    "y='y_'\n",
    "X.remove(y)"
   ]
  },
  {
   "cell_type": "code",
   "execution_count": 124,
   "metadata": {},
   "outputs": [],
   "source": [
    "train[y]=train[y].asfactor()\n",
    "test[y]=test[y].asfactor()"
   ]
  },
  {
   "cell_type": "code",
   "execution_count": 125,
   "metadata": {},
   "outputs": [
    {
     "name": "stdout",
     "output_type": "stream",
     "text": [
      "AutoML progress: |████████████████████████████████████████████████████████| 100%\n"
     ]
    }
   ],
   "source": [
    "aml=H2OAutoML(max_models=50, seed=1)\n",
    "aml.train(x=X,y=y, training_frame=train)"
   ]
  },
  {
   "cell_type": "code",
   "execution_count": 126,
   "metadata": {},
   "outputs": [
    {
     "data": {
      "text/html": [
       "<table>\n",
       "<thead>\n",
       "<tr><th>model_id                                           </th><th style=\"text-align: right;\">  mean_per_class_error</th><th style=\"text-align: right;\">  logloss</th><th style=\"text-align: right;\">    rmse</th><th style=\"text-align: right;\">     mse</th></tr>\n",
       "</thead>\n",
       "<tbody>\n",
       "<tr><td>GBM_grid_1_AutoML_20200326_104416_model_9          </td><td style=\"text-align: right;\">              0.803973</td><td style=\"text-align: right;\"> 9.82611 </td><td style=\"text-align: right;\">0.534543</td><td style=\"text-align: right;\">0.285736</td></tr>\n",
       "<tr><td>GBM_grid_1_AutoML_20200326_104416_model_6          </td><td style=\"text-align: right;\">              0.807997</td><td style=\"text-align: right;\"> 4.49027 </td><td style=\"text-align: right;\">0.48464 </td><td style=\"text-align: right;\">0.234876</td></tr>\n",
       "<tr><td>GBM_grid_1_AutoML_20200326_104416_model_4          </td><td style=\"text-align: right;\">              0.808469</td><td style=\"text-align: right;\"> 0.456458</td><td style=\"text-align: right;\">0.385047</td><td style=\"text-align: right;\">0.148261</td></tr>\n",
       "<tr><td>GBM_3_AutoML_20200326_104416                       </td><td style=\"text-align: right;\">              0.811629</td><td style=\"text-align: right;\"> 0.450446</td><td style=\"text-align: right;\">0.38312 </td><td style=\"text-align: right;\">0.146781</td></tr>\n",
       "<tr><td>GBM_2_AutoML_20200326_104416                       </td><td style=\"text-align: right;\">              0.812755</td><td style=\"text-align: right;\"> 0.449522</td><td style=\"text-align: right;\">0.383289</td><td style=\"text-align: right;\">0.14691 </td></tr>\n",
       "<tr><td>GBM_4_AutoML_20200326_104416                       </td><td style=\"text-align: right;\">              0.814053</td><td style=\"text-align: right;\"> 0.457232</td><td style=\"text-align: right;\">0.384917</td><td style=\"text-align: right;\">0.148161</td></tr>\n",
       "<tr><td>GBM_grid_1_AutoML_20200326_104416_model_5          </td><td style=\"text-align: right;\">              0.815456</td><td style=\"text-align: right;\">10.3385  </td><td style=\"text-align: right;\">0.548498</td><td style=\"text-align: right;\">0.30085 </td></tr>\n",
       "<tr><td>GBM_1_AutoML_20200326_104416                       </td><td style=\"text-align: right;\">              0.815595</td><td style=\"text-align: right;\"> 0.476462</td><td style=\"text-align: right;\">0.391142</td><td style=\"text-align: right;\">0.152992</td></tr>\n",
       "<tr><td>DRF_1_AutoML_20200326_104416                       </td><td style=\"text-align: right;\">              0.816474</td><td style=\"text-align: right;\"> 1.76669 </td><td style=\"text-align: right;\">0.400623</td><td style=\"text-align: right;\">0.160499</td></tr>\n",
       "<tr><td>XRT_1_AutoML_20200326_104416                       </td><td style=\"text-align: right;\">              0.816474</td><td style=\"text-align: right;\"> 1.76669 </td><td style=\"text-align: right;\">0.400623</td><td style=\"text-align: right;\">0.160499</td></tr>\n",
       "<tr><td>GBM_grid_1_AutoML_20200326_104416_model_3          </td><td style=\"text-align: right;\">              0.816892</td><td style=\"text-align: right;\"> 0.514772</td><td style=\"text-align: right;\">0.400313</td><td style=\"text-align: right;\">0.16025 </td></tr>\n",
       "<tr><td>GBM_grid_1_AutoML_20200326_104416_model_14         </td><td style=\"text-align: right;\">              0.818915</td><td style=\"text-align: right;\"> 0.448893</td><td style=\"text-align: right;\">0.386564</td><td style=\"text-align: right;\">0.149432</td></tr>\n",
       "<tr><td>DeepLearning_grid_1_AutoML_20200326_104416_model_9 </td><td style=\"text-align: right;\">              0.819436</td><td style=\"text-align: right;\"> 1.78571 </td><td style=\"text-align: right;\">0.394948</td><td style=\"text-align: right;\">0.155984</td></tr>\n",
       "<tr><td>GBM_grid_1_AutoML_20200326_104416_model_8          </td><td style=\"text-align: right;\">              0.819478</td><td style=\"text-align: right;\"> 1.68935 </td><td style=\"text-align: right;\">0.815179</td><td style=\"text-align: right;\">0.664517</td></tr>\n",
       "<tr><td>DeepLearning_grid_1_AutoML_20200326_104416_model_7 </td><td style=\"text-align: right;\">              0.819596</td><td style=\"text-align: right;\"> 2.02969 </td><td style=\"text-align: right;\">0.405257</td><td style=\"text-align: right;\">0.164233</td></tr>\n",
       "<tr><td>DeepLearning_grid_1_AutoML_20200326_104416_model_4 </td><td style=\"text-align: right;\">              0.819994</td><td style=\"text-align: right;\"> 0.749725</td><td style=\"text-align: right;\">0.397675</td><td style=\"text-align: right;\">0.158145</td></tr>\n",
       "<tr><td>StackedEnsemble_BestOfFamily_AutoML_20200326_104416</td><td style=\"text-align: right;\">              0.821079</td><td style=\"text-align: right;\"> 0.463041</td><td style=\"text-align: right;\">0.377859</td><td style=\"text-align: right;\">0.142777</td></tr>\n",
       "<tr><td>XGBoost_1_AutoML_20200326_104416                   </td><td style=\"text-align: right;\">              0.821556</td><td style=\"text-align: right;\"> 0.42942 </td><td style=\"text-align: right;\">0.37681 </td><td style=\"text-align: right;\">0.141986</td></tr>\n",
       "<tr><td>GBM_grid_1_AutoML_20200326_104416_model_13         </td><td style=\"text-align: right;\">              0.822466</td><td style=\"text-align: right;\"> 1.38174 </td><td style=\"text-align: right;\">0.745648</td><td style=\"text-align: right;\">0.555991</td></tr>\n",
       "<tr><td>DeepLearning_grid_1_AutoML_20200326_104416_model_1 </td><td style=\"text-align: right;\">              0.822509</td><td style=\"text-align: right;\"> 0.864199</td><td style=\"text-align: right;\">0.389257</td><td style=\"text-align: right;\">0.151521</td></tr>\n",
       "<tr><td>GBM_grid_1_AutoML_20200326_104416_model_1          </td><td style=\"text-align: right;\">              0.823808</td><td style=\"text-align: right;\"> 0.457875</td><td style=\"text-align: right;\">0.378055</td><td style=\"text-align: right;\">0.142926</td></tr>\n",
       "<tr><td>XGBoost_grid_1_AutoML_20200326_104416_model_2      </td><td style=\"text-align: right;\">              0.82632 </td><td style=\"text-align: right;\"> 0.509558</td><td style=\"text-align: right;\">0.406584</td><td style=\"text-align: right;\">0.16531 </td></tr>\n",
       "<tr><td>DeepLearning_grid_1_AutoML_20200326_104416_model_5 </td><td style=\"text-align: right;\">              0.827807</td><td style=\"text-align: right;\"> 0.754219</td><td style=\"text-align: right;\">0.382946</td><td style=\"text-align: right;\">0.146647</td></tr>\n",
       "<tr><td>DeepLearning_grid_1_AutoML_20200326_104416_model_2 </td><td style=\"text-align: right;\">              0.829696</td><td style=\"text-align: right;\"> 1.49717 </td><td style=\"text-align: right;\">0.398624</td><td style=\"text-align: right;\">0.158901</td></tr>\n",
       "<tr><td>XGBoost_grid_1_AutoML_20200326_104416_model_1      </td><td style=\"text-align: right;\">              0.830303</td><td style=\"text-align: right;\"> 0.514063</td><td style=\"text-align: right;\">0.405682</td><td style=\"text-align: right;\">0.164578</td></tr>\n",
       "<tr><td>GBM_grid_1_AutoML_20200326_104416_model_10         </td><td style=\"text-align: right;\">              0.831948</td><td style=\"text-align: right;\"> 0.530218</td><td style=\"text-align: right;\">0.409642</td><td style=\"text-align: right;\">0.167807</td></tr>\n",
       "<tr><td>GBM_grid_1_AutoML_20200326_104416_model_7          </td><td style=\"text-align: right;\">              0.83277 </td><td style=\"text-align: right;\"> 1.13416 </td><td style=\"text-align: right;\">0.6698  </td><td style=\"text-align: right;\">0.448632</td></tr>\n",
       "<tr><td>StackedEnsemble_AllModels_AutoML_20200326_104416   </td><td style=\"text-align: right;\">              0.83303 </td><td style=\"text-align: right;\"> 0.426078</td><td style=\"text-align: right;\">0.370184</td><td style=\"text-align: right;\">0.137036</td></tr>\n",
       "<tr><td>GBM_grid_1_AutoML_20200326_104416_model_12         </td><td style=\"text-align: right;\">              0.833333</td><td style=\"text-align: right;\"> 0.554141</td><td style=\"text-align: right;\">0.41368 </td><td style=\"text-align: right;\">0.171131</td></tr>\n",
       "<tr><td>GLM_grid_1_AutoML_20200326_104416_model_1          </td><td style=\"text-align: right;\">              0.833333</td><td style=\"text-align: right;\"> 0.576826</td><td style=\"text-align: right;\">0.392798</td><td style=\"text-align: right;\">0.154291</td></tr>\n",
       "<tr><td>GBM_5_AutoML_20200326_104416                       </td><td style=\"text-align: right;\">              0.833333</td><td style=\"text-align: right;\"> 0.430827</td><td style=\"text-align: right;\">0.378294</td><td style=\"text-align: right;\">0.143106</td></tr>\n",
       "<tr><td>GBM_grid_1_AutoML_20200326_104416_model_11         </td><td style=\"text-align: right;\">              0.833333</td><td style=\"text-align: right;\"> 1.24411 </td><td style=\"text-align: right;\">0.705603</td><td style=\"text-align: right;\">0.497875</td></tr>\n",
       "<tr><td>XGBoost_grid_1_AutoML_20200326_104416_model_3      </td><td style=\"text-align: right;\">              0.833333</td><td style=\"text-align: right;\"> 0.630937</td><td style=\"text-align: right;\">0.452384</td><td style=\"text-align: right;\">0.204652</td></tr>\n",
       "<tr><td>XGBoost_grid_1_AutoML_20200326_104416_model_4      </td><td style=\"text-align: right;\">              0.833333</td><td style=\"text-align: right;\"> 1.40886 </td><td style=\"text-align: right;\">0.752281</td><td style=\"text-align: right;\">0.565926</td></tr>\n",
       "<tr><td>DeepLearning_grid_1_AutoML_20200326_104416_model_6 </td><td style=\"text-align: right;\">              0.833333</td><td style=\"text-align: right;\"> 1.67996 </td><td style=\"text-align: right;\">0.400012</td><td style=\"text-align: right;\">0.16001 </td></tr>\n",
       "<tr><td>GBM_grid_1_AutoML_20200326_104416_model_2          </td><td style=\"text-align: right;\">              0.833333</td><td style=\"text-align: right;\"> 1.693   </td><td style=\"text-align: right;\">0.815876</td><td style=\"text-align: right;\">0.665654</td></tr>\n",
       "<tr><td>XGBoost_2_AutoML_20200326_104416                   </td><td style=\"text-align: right;\">              0.833333</td><td style=\"text-align: right;\"> 0.664522</td><td style=\"text-align: right;\">0.471642</td><td style=\"text-align: right;\">0.222446</td></tr>\n",
       "<tr><td>DeepLearning_grid_1_AutoML_20200326_104416_model_8 </td><td style=\"text-align: right;\">              0.833333</td><td style=\"text-align: right;\"> 2.20044 </td><td style=\"text-align: right;\">0.400281</td><td style=\"text-align: right;\">0.160225</td></tr>\n",
       "<tr><td>DeepLearning_grid_1_AutoML_20200326_104416_model_3 </td><td style=\"text-align: right;\">              0.833463</td><td style=\"text-align: right;\"> 1.44211 </td><td style=\"text-align: right;\">0.398092</td><td style=\"text-align: right;\">0.158477</td></tr>\n",
       "<tr><td>XGBoost_3_AutoML_20200326_104416                   </td><td style=\"text-align: right;\">              0.833723</td><td style=\"text-align: right;\"> 0.666438</td><td style=\"text-align: right;\">0.471578</td><td style=\"text-align: right;\">0.222386</td></tr>\n",
       "<tr><td>DeepLearning_1_AutoML_20200326_104416              </td><td style=\"text-align: right;\">              0.834198</td><td style=\"text-align: right;\"> 0.620362</td><td style=\"text-align: right;\">0.385559</td><td style=\"text-align: right;\">0.148656</td></tr>\n",
       "</tbody>\n",
       "</table>"
      ]
     },
     "metadata": {},
     "output_type": "display_data"
    },
    {
     "data": {
      "text/plain": []
     },
     "execution_count": 126,
     "metadata": {},
     "output_type": "execute_result"
    }
   ],
   "source": [
    "lb=aml.leaderboard\n",
    "lb.head(rows=lb.nrows)"
   ]
  },
  {
   "cell_type": "code",
   "execution_count": 127,
   "metadata": {},
   "outputs": [
    {
     "name": "stdout",
     "output_type": "stream",
     "text": [
      "Model Details\n",
      "=============\n",
      "H2OGradientBoostingEstimator :  Gradient Boosting Machine\n",
      "Model Key:  GBM_grid_1_AutoML_20200326_104416_model_9\n",
      "\n",
      "\n",
      "ModelMetricsMultinomial: gbm\n",
      "** Reported on train data. **\n",
      "\n",
      "MSE: 0.25768476128188356\n",
      "RMSE: 0.5076265963105987\n",
      "LogLoss: 8.900116350290968\n",
      "Mean Per-Class Error: 0.7263295036827042\n",
      "Confusion Matrix: Row labels: Actual class; Column labels: Predicted class\n",
      "\n"
     ]
    },
    {
     "data": {
      "text/html": [
       "<div style=\"overflow:auto\"><table style=\"width:50%\"><tr><td><b>0</b></td>\n",
       "<td><b>1</b></td>\n",
       "<td><b>2</b></td>\n",
       "<td><b>3</b></td>\n",
       "<td><b>4</b></td>\n",
       "<td><b>5</b></td>\n",
       "<td><b>Error</b></td>\n",
       "<td><b>Rate</b></td></tr>\n",
       "<tr><td>1062.0</td>\n",
       "<td>108.0</td>\n",
       "<td>50.0</td>\n",
       "<td>23.0</td>\n",
       "<td>38.0</td>\n",
       "<td>3.0</td>\n",
       "<td>0.1728972</td>\n",
       "<td>222 / 1,284</td></tr>\n",
       "<tr><td>97.0</td>\n",
       "<td>56.0</td>\n",
       "<td>18.0</td>\n",
       "<td>2.0</td>\n",
       "<td>0.0</td>\n",
       "<td>2.0</td>\n",
       "<td>0.68</td>\n",
       "<td>119 / 175</td></tr>\n",
       "<tr><td>17.0</td>\n",
       "<td>19.0</td>\n",
       "<td>14.0</td>\n",
       "<td>1.0</td>\n",
       "<td>1.0</td>\n",
       "<td>1.0</td>\n",
       "<td>0.7358491</td>\n",
       "<td>39 / 53</td></tr>\n",
       "<tr><td>5.0</td>\n",
       "<td>4.0</td>\n",
       "<td>1.0</td>\n",
       "<td>3.0</td>\n",
       "<td>0.0</td>\n",
       "<td>0.0</td>\n",
       "<td>0.7692308</td>\n",
       "<td>10 / 13</td></tr>\n",
       "<tr><td>2.0</td>\n",
       "<td>0.0</td>\n",
       "<td>0.0</td>\n",
       "<td>1.0</td>\n",
       "<td>0.0</td>\n",
       "<td>0.0</td>\n",
       "<td>1.0</td>\n",
       "<td>3 / 3</td></tr>\n",
       "<tr><td>1.0</td>\n",
       "<td>0.0</td>\n",
       "<td>0.0</td>\n",
       "<td>0.0</td>\n",
       "<td>0.0</td>\n",
       "<td>0.0</td>\n",
       "<td>1.0</td>\n",
       "<td>1 / 1</td></tr>\n",
       "<tr><td>1184.0</td>\n",
       "<td>187.0</td>\n",
       "<td>83.0</td>\n",
       "<td>30.0</td>\n",
       "<td>39.0</td>\n",
       "<td>6.0</td>\n",
       "<td>0.2576848</td>\n",
       "<td>394 / 1,529</td></tr></table></div>"
      ],
      "text/plain": [
       "0     1    2    3    4    5    Error     Rate\n",
       "----  ---  ---  ---  ---  ---  --------  -----------\n",
       "1062  108  50   23   38   3    0.172897  222 / 1,284\n",
       "97    56   18   2    0    2    0.68      119 / 175\n",
       "17    19   14   1    1    1    0.735849  39 / 53\n",
       "5     4    1    3    0    0    0.769231  10 / 13\n",
       "2     0    0    1    0    0    1         3 / 3\n",
       "1     0    0    0    0    0    1         1 / 1\n",
       "1184  187  83   30   39   6    0.257685  394 / 1,529"
      ]
     },
     "metadata": {},
     "output_type": "display_data"
    },
    {
     "name": "stdout",
     "output_type": "stream",
     "text": [
      "Top-6 Hit Ratios: \n"
     ]
    },
    {
     "data": {
      "text/html": [
       "<div style=\"overflow:auto\"><table style=\"width:50%\"><tr><td><b>k</b></td>\n",
       "<td><b>hit_ratio</b></td></tr>\n",
       "<tr><td>1</td>\n",
       "<td>0.7423152</td></tr>\n",
       "<tr><td>2</td>\n",
       "<td>0.8705036</td></tr>\n",
       "<tr><td>3</td>\n",
       "<td>0.8888162</td></tr>\n",
       "<tr><td>4</td>\n",
       "<td>0.8901243</td></tr>\n",
       "<tr><td>5</td>\n",
       "<td>0.8901243</td></tr>\n",
       "<tr><td>6</td>\n",
       "<td>1.0</td></tr></table></div>"
      ],
      "text/plain": [
       "k    hit_ratio\n",
       "---  -----------\n",
       "1    0.742315\n",
       "2    0.870504\n",
       "3    0.888816\n",
       "4    0.890124\n",
       "5    0.890124\n",
       "6    1"
      ]
     },
     "metadata": {},
     "output_type": "display_data"
    },
    {
     "name": "stdout",
     "output_type": "stream",
     "text": [
      "\n",
      "ModelMetricsMultinomial: gbm\n",
      "** Reported on cross-validation data. **\n",
      "\n",
      "MSE: 0.2857360452864149\n",
      "RMSE: 0.5345428376532744\n",
      "LogLoss: 9.82610825718673\n",
      "Mean Per-Class Error: 0.8039729002751397\n",
      "Confusion Matrix: Row labels: Actual class; Column labels: Predicted class\n",
      "\n"
     ]
    },
    {
     "data": {
      "text/html": [
       "<div style=\"overflow:auto\"><table style=\"width:50%\"><tr><td><b>0</b></td>\n",
       "<td><b>1</b></td>\n",
       "<td><b>2</b></td>\n",
       "<td><b>3</b></td>\n",
       "<td><b>4</b></td>\n",
       "<td><b>5</b></td>\n",
       "<td><b>Error</b></td>\n",
       "<td><b>Rate</b></td></tr>\n",
       "<tr><td>1042.0</td>\n",
       "<td>144.0</td>\n",
       "<td>46.0</td>\n",
       "<td>21.0</td>\n",
       "<td>11.0</td>\n",
       "<td>20.0</td>\n",
       "<td>0.1884735</td>\n",
       "<td>242 / 1,284</td></tr>\n",
       "<tr><td>105.0</td>\n",
       "<td>44.0</td>\n",
       "<td>17.0</td>\n",
       "<td>4.0</td>\n",
       "<td>1.0</td>\n",
       "<td>4.0</td>\n",
       "<td>0.7485714</td>\n",
       "<td>131 / 175</td></tr>\n",
       "<tr><td>33.0</td>\n",
       "<td>12.0</td>\n",
       "<td>6.0</td>\n",
       "<td>1.0</td>\n",
       "<td>1.0</td>\n",
       "<td>0.0</td>\n",
       "<td>0.8867925</td>\n",
       "<td>47 / 53</td></tr>\n",
       "<tr><td>8.0</td>\n",
       "<td>2.0</td>\n",
       "<td>0.0</td>\n",
       "<td>0.0</td>\n",
       "<td>0.0</td>\n",
       "<td>3.0</td>\n",
       "<td>1.0</td>\n",
       "<td>13 / 13</td></tr>\n",
       "<tr><td>2.0</td>\n",
       "<td>0.0</td>\n",
       "<td>0.0</td>\n",
       "<td>0.0</td>\n",
       "<td>0.0</td>\n",
       "<td>1.0</td>\n",
       "<td>1.0</td>\n",
       "<td>3 / 3</td></tr>\n",
       "<tr><td>0.0</td>\n",
       "<td>1.0</td>\n",
       "<td>0.0</td>\n",
       "<td>0.0</td>\n",
       "<td>0.0</td>\n",
       "<td>0.0</td>\n",
       "<td>1.0</td>\n",
       "<td>1 / 1</td></tr>\n",
       "<tr><td>1190.0</td>\n",
       "<td>203.0</td>\n",
       "<td>69.0</td>\n",
       "<td>26.0</td>\n",
       "<td>13.0</td>\n",
       "<td>28.0</td>\n",
       "<td>0.2858077</td>\n",
       "<td>437 / 1,529</td></tr></table></div>"
      ],
      "text/plain": [
       "0     1    2    3    4    5    Error     Rate\n",
       "----  ---  ---  ---  ---  ---  --------  -----------\n",
       "1042  144  46   21   11   20   0.188474  242 / 1,284\n",
       "105   44   17   4    1    4    0.748571  131 / 175\n",
       "33    12   6    1    1    0    0.886792  47 / 53\n",
       "8     2    0    0    0    3    1         13 / 13\n",
       "2     0    0    0    0    1    1         3 / 3\n",
       "0     1    0    0    0    0    1         1 / 1\n",
       "1190  203  69   26   13   28   0.285808  437 / 1,529"
      ]
     },
     "metadata": {},
     "output_type": "display_data"
    },
    {
     "name": "stdout",
     "output_type": "stream",
     "text": [
      "Top-6 Hit Ratios: \n"
     ]
    },
    {
     "data": {
      "text/html": [
       "<div style=\"overflow:auto\"><table style=\"width:50%\"><tr><td><b>k</b></td>\n",
       "<td><b>hit_ratio</b></td></tr>\n",
       "<tr><td>1</td>\n",
       "<td>0.7141923</td></tr>\n",
       "<tr><td>2</td>\n",
       "<td>0.8613473</td></tr>\n",
       "<tr><td>3</td>\n",
       "<td>0.8737737</td></tr>\n",
       "<tr><td>4</td>\n",
       "<td>0.8750817</td></tr>\n",
       "<tr><td>5</td>\n",
       "<td>0.8763897</td></tr>\n",
       "<tr><td>6</td>\n",
       "<td>0.9999999</td></tr></table></div>"
      ],
      "text/plain": [
       "k    hit_ratio\n",
       "---  -----------\n",
       "1    0.714192\n",
       "2    0.861347\n",
       "3    0.873774\n",
       "4    0.875082\n",
       "5    0.87639\n",
       "6    1"
      ]
     },
     "metadata": {},
     "output_type": "display_data"
    },
    {
     "name": "stdout",
     "output_type": "stream",
     "text": [
      "Cross-Validation Metrics Summary: \n"
     ]
    },
    {
     "data": {
      "text/html": [
       "<div style=\"overflow:auto\"><table style=\"width:50%\"><tr><td><b></b></td>\n",
       "<td><b>mean</b></td>\n",
       "<td><b>sd</b></td>\n",
       "<td><b>cv_1_valid</b></td>\n",
       "<td><b>cv_2_valid</b></td>\n",
       "<td><b>cv_3_valid</b></td>\n",
       "<td><b>cv_4_valid</b></td>\n",
       "<td><b>cv_5_valid</b></td></tr>\n",
       "<tr><td>accuracy</td>\n",
       "<td>0.7141734</td>\n",
       "<td>0.0219877</td>\n",
       "<td>0.7352941</td>\n",
       "<td>0.6993464</td>\n",
       "<td>0.6862745</td>\n",
       "<td>0.7647059</td>\n",
       "<td>0.6852459</td></tr>\n",
       "<tr><td>err</td>\n",
       "<td>0.2858266</td>\n",
       "<td>0.0219877</td>\n",
       "<td>0.2647059</td>\n",
       "<td>0.3006536</td>\n",
       "<td>0.3137255</td>\n",
       "<td>0.2352941</td>\n",
       "<td>0.3147541</td></tr>\n",
       "<tr><td>err_count</td>\n",
       "<td>87.4</td>\n",
       "<td>6.6873016</td>\n",
       "<td>81.0</td>\n",
       "<td>92.0</td>\n",
       "<td>96.0</td>\n",
       "<td>72.0</td>\n",
       "<td>96.0</td></tr>\n",
       "<tr><td>logloss</td>\n",
       "<td>9.826792</td>\n",
       "<td>0.7471041</td>\n",
       "<td>9.142705</td>\n",
       "<td>10.289531</td>\n",
       "<td>10.732439</td>\n",
       "<td>8.09806</td>\n",
       "<td>10.871222</td></tr>\n",
       "<tr><td>max_per_class_error</td>\n",
       "<td>1.0</td>\n",
       "<td>0.0</td>\n",
       "<td>1.0</td>\n",
       "<td>1.0</td>\n",
       "<td>1.0</td>\n",
       "<td>1.0</td>\n",
       "<td>1.0</td></tr>\n",
       "<tr><td>mean_per_class_accuracy</td>\n",
       "<td>0.4289962</td>\n",
       "<td>0.0594794</td>\n",
       "<td>0.3704208</td>\n",
       "<td>0.3644955</td>\n",
       "<td>0.537445</td>\n",
       "<td>0.5255242</td>\n",
       "<td>0.3470952</td></tr>\n",
       "<tr><td>mean_per_class_error</td>\n",
       "<td>0.5710038</td>\n",
       "<td>0.0594794</td>\n",
       "<td>0.6295791</td>\n",
       "<td>0.6355045</td>\n",
       "<td>0.462555</td>\n",
       "<td>0.4744758</td>\n",
       "<td>0.6529048</td></tr>\n",
       "<tr><td>mse</td>\n",
       "<td>0.285755</td>\n",
       "<td>0.0219434</td>\n",
       "<td>0.2647082</td>\n",
       "<td>0.3006287</td>\n",
       "<td>0.3133900</td>\n",
       "<td>0.2352941</td>\n",
       "<td>0.3147541</td></tr>\n",
       "<tr><td>r2</td>\n",
       "<td>0.1104166</td>\n",
       "<td>0.1177524</td>\n",
       "<td>0.2740894</td>\n",
       "<td>0.2588292</td>\n",
       "<td>-0.0354475</td>\n",
       "<td>0.1927600</td>\n",
       "<td>-0.1381482</td></tr>\n",
       "<tr><td>rmse</td>\n",
       "<td>0.5337415</td>\n",
       "<td>0.0209172</td>\n",
       "<td>0.514498</td>\n",
       "<td>0.5482961</td>\n",
       "<td>0.5598124</td>\n",
       "<td>0.4850712</td>\n",
       "<td>0.5610295</td></tr></table></div>"
      ],
      "text/plain": [
       "                         mean      sd         cv_1_valid    cv_2_valid    cv_3_valid    cv_4_valid    cv_5_valid\n",
       "-----------------------  --------  ---------  ------------  ------------  ------------  ------------  ------------\n",
       "accuracy                 0.714173  0.0219877  0.735294      0.699346      0.686275      0.764706      0.685246\n",
       "err                      0.285827  0.0219877  0.264706      0.300654      0.313725      0.235294      0.314754\n",
       "err_count                87.4      6.6873     81            92            96            72            96\n",
       "logloss                  9.82679   0.747104   9.1427        10.2895       10.7324       8.09806       10.8712\n",
       "max_per_class_error      1         0          1             1             1             1             1\n",
       "mean_per_class_accuracy  0.428996  0.0594794  0.370421      0.364496      0.537445      0.525524      0.347095\n",
       "mean_per_class_error     0.571004  0.0594794  0.629579      0.635505      0.462555      0.474476      0.652905\n",
       "mse                      0.285755  0.0219434  0.264708      0.300629      0.31339       0.235294      0.314754\n",
       "r2                       0.110417  0.117752   0.274089      0.258829      -0.0354475    0.19276       -0.138148\n",
       "rmse                     0.533741  0.0209172  0.514498      0.548296      0.559812      0.485071      0.561029"
      ]
     },
     "metadata": {},
     "output_type": "display_data"
    },
    {
     "name": "stdout",
     "output_type": "stream",
     "text": [
      "Scoring History: \n"
     ]
    },
    {
     "data": {
      "text/html": [
       "<div style=\"overflow:auto\"><table style=\"width:50%\"><tr><td><b></b></td>\n",
       "<td><b>timestamp</b></td>\n",
       "<td><b>duration</b></td>\n",
       "<td><b>number_of_trees</b></td>\n",
       "<td><b>training_rmse</b></td>\n",
       "<td><b>training_logloss</b></td>\n",
       "<td><b>training_classification_error</b></td></tr>\n",
       "<tr><td></td>\n",
       "<td>2020-03-26 11:20:19</td>\n",
       "<td>17.294 sec</td>\n",
       "<td>0.0</td>\n",
       "<td>0.8333333</td>\n",
       "<td>1.7917595</td>\n",
       "<td>0.1602354</td></tr>\n",
       "<tr><td></td>\n",
       "<td>2020-03-26 11:20:19</td>\n",
       "<td>17.335 sec</td>\n",
       "<td>5.0</td>\n",
       "<td>0.3818884</td>\n",
       "<td>0.5014432</td>\n",
       "<td>0.1805101</td></tr>\n",
       "<tr><td></td>\n",
       "<td>2020-03-26 11:20:19</td>\n",
       "<td>17.375 sec</td>\n",
       "<td>10.0</td>\n",
       "<td>0.4296791</td>\n",
       "<td>2.7392197</td>\n",
       "<td>0.2132112</td></tr>\n",
       "<tr><td></td>\n",
       "<td>2020-03-26 11:20:19</td>\n",
       "<td>17.416 sec</td>\n",
       "<td>15.0</td>\n",
       "<td>0.4664383</td>\n",
       "<td>5.8668515</td>\n",
       "<td>0.2256377</td></tr>\n",
       "<tr><td></td>\n",
       "<td>2020-03-26 11:20:19</td>\n",
       "<td>17.454 sec</td>\n",
       "<td>20.0</td>\n",
       "<td>0.5926297</td>\n",
       "<td>12.0445253</td>\n",
       "<td>0.3512099</td></tr>\n",
       "<tr><td></td>\n",
       "<td>2020-03-26 11:20:19</td>\n",
       "<td>17.491 sec</td>\n",
       "<td>25.0</td>\n",
       "<td>0.5140282</td>\n",
       "<td>9.1067663</td>\n",
       "<td>0.2642250</td></tr>\n",
       "<tr><td></td>\n",
       "<td>2020-03-26 11:20:19</td>\n",
       "<td>17.524 sec</td>\n",
       "<td>30.0</td>\n",
       "<td>0.4965545</td>\n",
       "<td>8.5161012</td>\n",
       "<td>0.2465664</td></tr>\n",
       "<tr><td></td>\n",
       "<td>2020-03-26 11:20:19</td>\n",
       "<td>17.540 sec</td>\n",
       "<td>32.0</td>\n",
       "<td>0.5076266</td>\n",
       "<td>8.9001164</td>\n",
       "<td>0.2576848</td></tr></table></div>"
      ],
      "text/plain": [
       "    timestamp            duration    number_of_trees    training_rmse    training_logloss    training_classification_error\n",
       "--  -------------------  ----------  -----------------  ---------------  ------------------  -------------------------------\n",
       "    2020-03-26 11:20:19  17.294 sec  0                  0.833333         1.79176             0.160235\n",
       "    2020-03-26 11:20:19  17.335 sec  5                  0.381888         0.501443            0.18051\n",
       "    2020-03-26 11:20:19  17.375 sec  10                 0.429679         2.73922             0.213211\n",
       "    2020-03-26 11:20:19  17.416 sec  15                 0.466438         5.86685             0.225638\n",
       "    2020-03-26 11:20:19  17.454 sec  20                 0.59263          12.0445             0.35121\n",
       "    2020-03-26 11:20:19  17.491 sec  25                 0.514028         9.10677             0.264225\n",
       "    2020-03-26 11:20:19  17.524 sec  30                 0.496555         8.5161              0.246566\n",
       "    2020-03-26 11:20:19  17.540 sec  32                 0.507627         8.90012             0.257685"
      ]
     },
     "metadata": {},
     "output_type": "display_data"
    },
    {
     "name": "stdout",
     "output_type": "stream",
     "text": [
      "Variable Importances: \n"
     ]
    },
    {
     "data": {
      "text/html": [
       "<div style=\"overflow:auto\"><table style=\"width:50%\"><tr><td><b>variable</b></td>\n",
       "<td><b>relative_importance</b></td>\n",
       "<td><b>scaled_importance</b></td>\n",
       "<td><b>percentage</b></td></tr>\n",
       "<tr><td>sell_price</td>\n",
       "<td>491.2980042</td>\n",
       "<td>1.0</td>\n",
       "<td>0.2060171</td></tr>\n",
       "<tr><td>month_12</td>\n",
       "<td>256.0709534</td>\n",
       "<td>0.5212131</td>\n",
       "<td>0.1073788</td></tr>\n",
       "<tr><td>weekday_Friday</td>\n",
       "<td>225.7178650</td>\n",
       "<td>0.4594317</td>\n",
       "<td>0.0946508</td></tr>\n",
       "<tr><td>snap_CA</td>\n",
       "<td>137.6281433</td>\n",
       "<td>0.2801317</td>\n",
       "<td>0.0577119</td></tr>\n",
       "<tr><td>snap_WI</td>\n",
       "<td>131.7222748</td>\n",
       "<td>0.2681107</td>\n",
       "<td>0.0552354</td></tr>\n",
       "<tr><td>---</td>\n",
       "<td>---</td>\n",
       "<td>---</td>\n",
       "<td>---</td></tr>\n",
       "<tr><td>event_type_1_Religious</td>\n",
       "<td>1.2266078</td>\n",
       "<td>0.0024967</td>\n",
       "<td>0.0005144</td></tr>\n",
       "<tr><td>event_type_1_Cultural</td>\n",
       "<td>0.2263158</td>\n",
       "<td>0.0004606</td>\n",
       "<td>0.0000949</td></tr>\n",
       "<tr><td>event_type_1_Sporting</td>\n",
       "<td>0.1348659</td>\n",
       "<td>0.0002745</td>\n",
       "<td>0.0000566</td></tr>\n",
       "<tr><td>event_type_2_Cultural</td>\n",
       "<td>0.0</td>\n",
       "<td>0.0</td>\n",
       "<td>0.0</td></tr>\n",
       "<tr><td>event_type_2_Religious</td>\n",
       "<td>0.0</td>\n",
       "<td>0.0</td>\n",
       "<td>0.0</td></tr></table></div>"
      ],
      "text/plain": [
       "variable                relative_importance    scaled_importance       percentage\n",
       "----------------------  ---------------------  ----------------------  ----------------------\n",
       "sell_price              491.2980041503906      1.0                     0.2060171065239518\n",
       "month_12                256.0709533691406      0.521213095119261       0.1073788137388634\n",
       "weekday_Friday          225.71786499023438     0.45943167503920934     0.09465078433703039\n",
       "snap_CA                 137.62814331054688     0.2801316963388634      0.057711921525378934\n",
       "snap_WI                 131.72227478027344     0.2681107467718352      0.05523540027790944\n",
       "---                     ---                    ---                     ---\n",
       "event_type_1_Religious  1.2266077995300293     0.002496667580913994    0.0005143562309720554\n",
       "event_type_1_Cultural   0.22631582617759705    0.0004606487798967728   9.490152875812186e-05\n",
       "event_type_1_Sporting   0.1348659098148346     0.00027450937857575943  5.6553627887866035e-05\n",
       "event_type_2_Cultural   0.0                    0.0                     0.0\n",
       "event_type_2_Religious  0.0                    0.0                     0.0"
      ]
     },
     "metadata": {},
     "output_type": "display_data"
    },
    {
     "name": "stdout",
     "output_type": "stream",
     "text": [
      "\n",
      "See the whole table with table.as_data_frame()\n"
     ]
    },
    {
     "data": {
      "text/plain": []
     },
     "execution_count": 127,
     "metadata": {},
     "output_type": "execute_result"
    }
   ],
   "source": [
    "aml.leader"
   ]
  },
  {
   "cell_type": "code",
   "execution_count": 128,
   "metadata": {},
   "outputs": [
    {
     "name": "stdout",
     "output_type": "stream",
     "text": [
      "gbm prediction progress: |████████████████████████████████████████████████| 100%\n"
     ]
    },
    {
     "data": {
      "text/html": [
       "<table>\n",
       "<thead>\n",
       "<tr><th style=\"text-align: right;\">  predict</th><th style=\"text-align: right;\">  p0</th><th style=\"text-align: right;\">  p1</th><th style=\"text-align: right;\">  p2</th><th style=\"text-align: right;\">  p3</th><th style=\"text-align: right;\">  p4</th><th style=\"text-align: right;\">  p5</th></tr>\n",
       "</thead>\n",
       "<tbody>\n",
       "<tr><td style=\"text-align: right;\">        0</td><td style=\"text-align: right;\">   1</td><td style=\"text-align: right;\">   0</td><td style=\"text-align: right;\">   0</td><td style=\"text-align: right;\">   0</td><td style=\"text-align: right;\">   0</td><td style=\"text-align: right;\">   0</td></tr>\n",
       "<tr><td style=\"text-align: right;\">        4</td><td style=\"text-align: right;\">   0</td><td style=\"text-align: right;\">   0</td><td style=\"text-align: right;\">   0</td><td style=\"text-align: right;\">   0</td><td style=\"text-align: right;\">   1</td><td style=\"text-align: right;\">   0</td></tr>\n",
       "<tr><td style=\"text-align: right;\">        0</td><td style=\"text-align: right;\">   1</td><td style=\"text-align: right;\">   0</td><td style=\"text-align: right;\">   0</td><td style=\"text-align: right;\">   0</td><td style=\"text-align: right;\">   0</td><td style=\"text-align: right;\">   0</td></tr>\n",
       "<tr><td style=\"text-align: right;\">        0</td><td style=\"text-align: right;\">   1</td><td style=\"text-align: right;\">   0</td><td style=\"text-align: right;\">   0</td><td style=\"text-align: right;\">   0</td><td style=\"text-align: right;\">   0</td><td style=\"text-align: right;\">   0</td></tr>\n",
       "<tr><td style=\"text-align: right;\">        0</td><td style=\"text-align: right;\">   1</td><td style=\"text-align: right;\">   0</td><td style=\"text-align: right;\">   0</td><td style=\"text-align: right;\">   0</td><td style=\"text-align: right;\">   0</td><td style=\"text-align: right;\">   0</td></tr>\n",
       "<tr><td style=\"text-align: right;\">        0</td><td style=\"text-align: right;\">   1</td><td style=\"text-align: right;\">   0</td><td style=\"text-align: right;\">   0</td><td style=\"text-align: right;\">   0</td><td style=\"text-align: right;\">   0</td><td style=\"text-align: right;\">   0</td></tr>\n",
       "<tr><td style=\"text-align: right;\">        0</td><td style=\"text-align: right;\">   1</td><td style=\"text-align: right;\">   0</td><td style=\"text-align: right;\">   0</td><td style=\"text-align: right;\">   0</td><td style=\"text-align: right;\">   0</td><td style=\"text-align: right;\">   0</td></tr>\n",
       "<tr><td style=\"text-align: right;\">        0</td><td style=\"text-align: right;\">   1</td><td style=\"text-align: right;\">   0</td><td style=\"text-align: right;\">   0</td><td style=\"text-align: right;\">   0</td><td style=\"text-align: right;\">   0</td><td style=\"text-align: right;\">   0</td></tr>\n",
       "<tr><td style=\"text-align: right;\">        2</td><td style=\"text-align: right;\">   0</td><td style=\"text-align: right;\">   0</td><td style=\"text-align: right;\">   1</td><td style=\"text-align: right;\">   0</td><td style=\"text-align: right;\">   0</td><td style=\"text-align: right;\">   0</td></tr>\n",
       "<tr><td style=\"text-align: right;\">        0</td><td style=\"text-align: right;\">   1</td><td style=\"text-align: right;\">   0</td><td style=\"text-align: right;\">   0</td><td style=\"text-align: right;\">   0</td><td style=\"text-align: right;\">   0</td><td style=\"text-align: right;\">   0</td></tr>\n",
       "</tbody>\n",
       "</table>"
      ]
     },
     "metadata": {},
     "output_type": "display_data"
    },
    {
     "data": {
      "text/plain": []
     },
     "execution_count": 128,
     "metadata": {},
     "output_type": "execute_result"
    }
   ],
   "source": [
    "pred=aml.leader.predict(test)\n",
    "pred"
   ]
  },
  {
   "cell_type": "markdown",
   "metadata": {},
   "source": [
    "## Applying Model"
   ]
  },
  {
   "cell_type": "code",
   "execution_count": 13,
   "metadata": {},
   "outputs": [],
   "source": [
    "#Loading Pickle\n",
    "file = open('list_df_sell.pickle', 'rb')\n",
    "list_df_sell = pickle.load(file)\n",
    "file.close()"
   ]
  },
  {
   "cell_type": "code",
   "execution_count": 14,
   "metadata": {},
   "outputs": [],
   "source": [
    "def preparedataset(i):\n",
    "    Xy=list_df_sell[i].copy()\n",
    "    \n",
    "    #Stracting X_test\n",
    "    X_test=Xy.drop(columns=['day_sell'])[1913:]\n",
    "    \n",
    "    #Remove Nones for all the sample  from X and y in the sell price\n",
    "    Xy.sell_price=Xy.sell_price.astype(float)\n",
    "    Xy=Xy[(Xy.sell_price>0) & (Xy.day_sell >=0)]\n",
    "    \n",
    "    #Prepare X_train and y_train\n",
    "    X_train,y_train = Xy.drop(columns=['day_sell']), Xy.day_sell\n",
    "    return X_train,y_train"
   ]
  },
  {
   "cell_type": "code",
   "execution_count": 33,
   "metadata": {},
   "outputs": [],
   "source": [
    "#from sklearn.ensemble import RandomForestRegressor as RFR\n",
    "#from sklearn.linear_model import ElasticNet as EN\n",
    "#from sklearn.ensemble import GradientBoostingRegressor as GBR\n",
    "\n",
    "def prediction(i, database_size=30490, to_csv=True):\n",
    "    \n",
    "    #Xy_train = preparedataset(i)\n",
    "    #X_train = Xy_train[0]\n",
    "    #y_train = Xy_train[1]\n",
    "    \n",
    "    #Applying model\n",
    "\n",
    "    y_pred=xgbmodel(i)\n",
    "\n",
    "\n",
    "    #Write predictions in sumbit validation (first 28)\n",
    "    df_sub.iloc[i,1:] = y_pred[:28]\n",
    "\n",
    "    #Write predictions in submit validation (second 28) row + 30490\n",
    "    df_sub.iloc[i+database_size,1:]=y_pred[28:]\n",
    "    \n",
    "    if to_csv == True:\n",
    "        df_sub.to_csv('M5_AV_05_XGBoost_n10.csv', index=False)\n",
    "        \n",
    "    \n"
   ]
  },
  {
   "cell_type": "code",
   "execution_count": null,
   "metadata": {},
   "outputs": [
    {
     "data": {
      "application/vnd.jupyter.widget-view+json": {
       "model_id": "6646b31864d24ed397085d07e383f199",
       "version_major": 2,
       "version_minor": 0
      },
      "text/plain": [
       "HBox(children=(FloatProgress(value=0.0, max=30490.0), HTML(value='')))"
      ]
     },
     "metadata": {},
     "output_type": "display_data"
    },
    {
     "name": "stdout",
     "output_type": "stream",
     "text": [
      "100%|██████████| 10/10 [00:11<00:00,  1.20s/it, best loss: 1.111567440065891]\n",
      "100%|██████████| 10/10 [00:29<00:00,  2.98s/it, best loss: 0.7155698051261324]\n",
      "100%|██████████| 10/10 [00:12<00:00,  1.26s/it, best loss: 1.126891086833662]\n",
      "100%|██████████| 10/10 [00:33<00:00,  3.37s/it, best loss: 2.3010915238749563]\n",
      "100%|██████████| 10/10 [00:25<00:00,  2.51s/it, best loss: 1.5558703350290712]\n",
      "100%|██████████| 10/10 [00:21<00:00,  2.17s/it, best loss: 1.6875939438845784]\n",
      "100%|██████████| 10/10 [00:23<00:00,  2.31s/it, best loss: 0.6331324135380745]\n",
      "100%|██████████| 10/10 [00:24<00:00,  2.45s/it, best loss: 11.677170629152643]\n",
      "100%|██████████| 10/10 [00:30<00:00,  3.10s/it, best loss: 1.7154282903196583]\n",
      "100%|██████████| 10/10 [00:28<00:00,  2.83s/it, best loss: 0.9385020040824278]\n",
      "100%|██████████| 10/10 [00:14<00:00,  1.48s/it, best loss: 0.3252832335626691]\n",
      "100%|██████████| 10/10 [00:37<00:00,  3.72s/it, best loss: 0.5133422266168307]\n",
      "100%|██████████| 10/10 [00:16<00:00,  1.60s/it, best loss: 0.6666174675266007]\n",
      "100%|██████████| 10/10 [00:19<00:00,  1.95s/it, best loss: 2.1390422061732752]\n",
      "100%|██████████| 10/10 [00:23<00:00,  2.35s/it, best loss: 8.215752679791386]\n",
      "100%|██████████| 10/10 [00:26<00:00,  2.65s/it, best loss: 7.48629756732614] \n",
      "100%|██████████| 10/10 [00:19<00:00,  1.92s/it, best loss: 1.4950548957016585]\n",
      "100%|██████████| 10/10 [00:24<00:00,  2.46s/it, best loss: 0.29697744543392696]\n",
      "100%|██████████| 10/10 [00:18<00:00,  1.82s/it, best loss: 11.008394018990755]\n",
      "100%|██████████| 10/10 [00:30<00:00,  3.06s/it, best loss: 0.6035921433895565]\n",
      "100%|██████████| 10/10 [00:25<00:00,  2.58s/it, best loss: 1.1172862973978281]\n",
      "100%|██████████| 10/10 [00:15<00:00,  1.51s/it, best loss: 0.5805072707104717]\n",
      "100%|██████████| 10/10 [00:22<00:00,  2.22s/it, best loss: 1.292348506131076]\n",
      "100%|██████████| 10/10 [00:19<00:00,  1.95s/it, best loss: 0.6706165215093389]\n",
      "100%|██████████| 10/10 [00:23<00:00,  2.39s/it, best loss: 1.0936218578098666]\n",
      "100%|██████████| 10/10 [00:04<00:00,  2.09it/s, best loss: 0.3188753103724117]\n",
      "100%|██████████| 10/10 [00:12<00:00,  1.22s/it, best loss: 0.8709296236266143]\n",
      "100%|██████████| 10/10 [00:21<00:00,  2.12s/it, best loss: 0.9412295290426055]\n",
      "100%|██████████| 10/10 [00:21<00:00,  2.14s/it, best loss: 2.011910549351697]\n",
      "100%|██████████| 10/10 [00:18<00:00,  1.88s/it, best loss: 7.1642765323753785]\n",
      "100%|██████████| 10/10 [00:24<00:00,  2.46s/it, best loss: 0.5650565040561989]\n",
      "100%|██████████| 10/10 [00:24<00:00,  2.43s/it, best loss: 7.889327218141838]\n",
      "100%|██████████| 10/10 [00:11<00:00,  1.16s/it, best loss: 0.6724402968249114]\n",
      "100%|██████████| 10/10 [00:25<00:00,  2.58s/it, best loss: 1.1530456126392261]\n",
      "100%|██████████| 10/10 [00:31<00:00,  3.11s/it, best loss: 0.4097335672303942]\n",
      "100%|██████████| 10/10 [00:21<00:00,  2.17s/it, best loss: 1.4484988222943171]\n",
      "100%|██████████| 10/10 [00:20<00:00,  2.08s/it, best loss: 1.023313949165601]\n",
      "100%|██████████| 10/10 [00:28<00:00,  2.84s/it, best loss: 0.7105642398069764]\n",
      "100%|██████████| 10/10 [00:15<00:00,  1.59s/it, best loss: 0.42562394688191785]\n",
      "100%|██████████| 10/10 [00:19<00:00,  1.97s/it, best loss: 1.1472853827842062]\n",
      "100%|██████████| 10/10 [00:20<00:00,  2.04s/it, best loss: 0.6267492502298133]\n",
      "100%|██████████| 10/10 [00:18<00:00,  1.88s/it, best loss: 0.7700031941395394]\n",
      "100%|██████████| 10/10 [00:26<00:00,  2.66s/it, best loss: 4.5047857959364785]\n",
      "100%|██████████| 10/10 [00:17<00:00,  1.75s/it, best loss: 0.8730001080789505]\n",
      "100%|██████████| 10/10 [00:11<00:00,  1.16s/it, best loss: 0.9185226035132811]\n",
      "100%|██████████| 10/10 [00:06<00:00,  1.64it/s, best loss: 0.9488615901150963]\n",
      "100%|██████████| 10/10 [00:29<00:00,  2.96s/it, best loss: 1.8209204954978404]\n",
      "100%|██████████| 10/10 [00:35<00:00,  3.51s/it, best loss: 12.60326886803546]\n",
      "100%|██████████| 10/10 [00:20<00:00,  2.07s/it, best loss: 0.7644543414703802]\n",
      "100%|██████████| 10/10 [00:23<00:00,  2.38s/it, best loss: 1.490954345700199]\n",
      "100%|██████████| 10/10 [00:16<00:00,  1.62s/it, best loss: 0.5953738173662344]\n",
      "100%|██████████| 10/10 [00:21<00:00,  2.13s/it, best loss: 0.34901238466283174]\n",
      "100%|██████████| 10/10 [00:12<00:00,  1.21s/it, best loss: 0.5792207444540742]\n",
      "100%|██████████| 10/10 [00:11<00:00,  1.18s/it, best loss: 0.625736710894954]\n",
      "100%|██████████| 10/10 [00:23<00:00,  2.39s/it, best loss: 1.942965494551323]\n",
      "100%|██████████| 10/10 [00:14<00:00,  1.47s/it, best loss: 1.8956303466334659]\n",
      "100%|██████████| 10/10 [00:16<00:00,  1.68s/it, best loss: 1.2684830585578026]\n",
      "100%|██████████| 10/10 [00:33<00:00,  3.38s/it, best loss: 0.8083882591148204]\n",
      "100%|██████████| 10/10 [00:23<00:00,  2.35s/it, best loss: 0.8041433021397478]\n",
      "100%|██████████| 10/10 [00:18<00:00,  1.85s/it, best loss: 0.5535401428638769]\n",
      "100%|██████████| 10/10 [00:08<00:00,  1.15it/s, best loss: 0.3969254449581633]\n",
      "100%|██████████| 10/10 [00:28<00:00,  2.80s/it, best loss: 0.3883416690340897]\n",
      "100%|██████████| 10/10 [00:20<00:00,  2.09s/it, best loss: 1.6611254541693072]\n",
      "100%|██████████| 10/10 [00:19<00:00,  1.93s/it, best loss: 0.28718725996944366]\n",
      "100%|██████████| 10/10 [00:16<00:00,  1.63s/it, best loss: 2.3668617045902827]\n",
      "100%|██████████| 10/10 [00:27<00:00,  2.80s/it, best loss: 7.57339319679266]\n",
      "100%|██████████| 10/10 [00:23<00:00,  2.33s/it, best loss: 1.2569619643644212]\n",
      "100%|██████████| 10/10 [00:32<00:00,  3.29s/it, best loss: 0.6957720262662402]\n",
      "100%|██████████| 10/10 [00:11<00:00,  1.15s/it, best loss: 0.33835612975719004]\n",
      "100%|██████████| 10/10 [00:22<00:00,  2.23s/it, best loss: 1.0044974826880535]\n",
      "100%|██████████| 10/10 [00:20<00:00,  2.06s/it, best loss: 0.6955840860999176]\n",
      "100%|██████████| 10/10 [00:22<00:00,  2.24s/it, best loss: 1.867218950453884]\n",
      "100%|██████████| 10/10 [00:20<00:00,  2.02s/it, best loss: 0.9985487498515557]\n",
      "100%|██████████| 10/10 [00:22<00:00,  2.26s/it, best loss: 1.436999578290633]\n",
      "100%|██████████| 10/10 [00:19<00:00,  1.93s/it, best loss: 0.736344661323052]\n",
      "100%|██████████| 10/10 [00:36<00:00,  3.64s/it, best loss: 2.2498663152895753]\n",
      "100%|██████████| 10/10 [00:24<00:00,  2.50s/it, best loss: 1.260211477217579]\n",
      "100%|██████████| 10/10 [00:23<00:00,  2.37s/it, best loss: 4.848148396002365]\n",
      "100%|██████████| 10/10 [00:17<00:00,  1.73s/it, best loss: 1.1920893328734885]\n",
      "100%|██████████| 10/10 [00:27<00:00,  2.72s/it, best loss: 0.3836181918753999]\n",
      "100%|██████████| 10/10 [00:23<00:00,  2.34s/it, best loss: 0.8008047347796778]\n",
      "100%|██████████| 10/10 [00:32<00:00,  3.28s/it, best loss: 1.2827728297790124]\n",
      "100%|██████████| 10/10 [00:22<00:00,  2.21s/it, best loss: 1.648876798143289]\n",
      "100%|██████████| 10/10 [00:12<00:00,  1.21s/it, best loss: 1.175033195081784]\n",
      "100%|██████████| 10/10 [00:14<00:00,  1.49s/it, best loss: 1.0568808869069068]\n",
      "100%|██████████| 10/10 [00:26<00:00,  2.66s/it, best loss: 1.092328373957018]\n",
      "100%|██████████| 10/10 [00:24<00:00,  2.43s/it, best loss: 1.6371356438842757]\n",
      "100%|██████████| 10/10 [00:14<00:00,  1.44s/it, best loss: 7.570394013063058]\n",
      "100%|██████████| 10/10 [00:10<00:00,  1.09s/it, best loss: 3.3615111471527914]\n",
      "100%|██████████| 10/10 [00:25<00:00,  2.59s/it, best loss: 0.4174107601257919]\n",
      "100%|██████████| 10/10 [00:25<00:00,  2.59s/it, best loss: 0.5853484855487785]\n",
      "100%|██████████| 10/10 [00:13<00:00,  1.35s/it, best loss: 0.794642008066412]\n",
      "100%|██████████| 10/10 [00:20<00:00,  2.03s/it, best loss: 0.39570649727476936]\n",
      "100%|██████████| 10/10 [00:32<00:00,  3.20s/it, best loss: 0.7877792542174388]\n",
      "100%|██████████| 10/10 [00:26<00:00,  2.62s/it, best loss: 1.302609033830092]\n",
      "100%|██████████| 10/10 [00:38<00:00,  3.82s/it, best loss: 1.1125613282491087]\n",
      "100%|██████████| 10/10 [00:32<00:00,  3.21s/it, best loss: 1.0445341089165696]\n",
      "100%|██████████| 10/10 [00:22<00:00,  2.27s/it, best loss: 0.4192663147865066]\n",
      "100%|██████████| 10/10 [00:32<00:00,  3.27s/it, best loss: 6.454898240538158]\n",
      "100%|██████████| 10/10 [00:09<00:00,  1.04it/s, best loss: 0.5584691632461902]\n",
      "100%|██████████| 10/10 [00:27<00:00,  2.76s/it, best loss: 1.0826420661886342]\n",
      "100%|██████████| 10/10 [00:24<00:00,  2.45s/it, best loss: 0.7821415700654716]\n",
      "100%|██████████| 10/10 [00:13<00:00,  1.39s/it, best loss: 0.39501796480795737]\n"
     ]
    },
    {
     "name": "stdout",
     "output_type": "stream",
     "text": [
      "100%|██████████| 10/10 [00:15<00:00,  1.58s/it, best loss: 1.314692989375005]\n",
      "100%|██████████| 10/10 [00:26<00:00,  2.66s/it, best loss: 0.7653778596415215]\n",
      "100%|██████████| 10/10 [00:31<00:00,  3.17s/it, best loss: 0.5764686810205447]\n",
      "100%|██████████| 10/10 [00:26<00:00,  2.68s/it, best loss: 1.459753017643939]\n",
      "100%|██████████| 10/10 [00:21<00:00,  2.10s/it, best loss: 0.20500565139906873]\n",
      "100%|██████████| 10/10 [00:15<00:00,  1.55s/it, best loss: 0.4549554100355566]\n",
      "100%|██████████| 10/10 [00:17<00:00,  1.72s/it, best loss: 0.5893225528599177]\n",
      "100%|██████████| 10/10 [00:18<00:00,  1.83s/it, best loss: 1.7181290731617336]\n",
      "100%|██████████| 10/10 [00:17<00:00,  1.76s/it, best loss: 0.8530628902853586]\n",
      "100%|██████████| 10/10 [00:21<00:00,  2.14s/it, best loss: 0.47324223162866175]\n",
      "100%|██████████| 10/10 [00:20<00:00,  2.02s/it, best loss: 0.4915403027577817]\n",
      "100%|██████████| 10/10 [00:08<00:00,  1.13it/s, best loss: 1.730972442575372]\n",
      "100%|██████████| 10/10 [00:14<00:00,  1.48s/it, best loss: 1.0656657050571154]\n",
      "100%|██████████| 10/10 [00:12<00:00,  1.25s/it, best loss: 1.6784090447724147]\n",
      "100%|██████████| 10/10 [00:09<00:00,  1.00it/s, best loss: 2.277918049595056]\n",
      "100%|██████████| 10/10 [00:13<00:00,  1.31s/it, best loss: 1.1668664690593125]\n",
      "100%|██████████| 10/10 [00:14<00:00,  1.45s/it, best loss: 1.47620246366935] \n",
      "100%|██████████| 10/10 [00:10<00:00,  1.04s/it, best loss: 1.1456892063372797]\n",
      "100%|██████████| 10/10 [00:12<00:00,  1.26s/it, best loss: 1.1826202415443063]\n",
      "100%|██████████| 10/10 [00:27<00:00,  2.75s/it, best loss: 1.2885501699573136]\n",
      "100%|██████████| 10/10 [00:30<00:00,  3.03s/it, best loss: 0.5636060300298151]\n",
      "100%|██████████| 10/10 [00:18<00:00,  1.87s/it, best loss: 1.1553971003518422]\n",
      "100%|██████████| 10/10 [00:26<00:00,  2.67s/it, best loss: 1.4295802704651517]\n",
      "100%|██████████| 10/10 [00:11<00:00,  1.16s/it, best loss: 2.3163025208644332]\n",
      "100%|██████████| 10/10 [00:27<00:00,  2.71s/it, best loss: 1.8059352079444755]\n",
      "100%|██████████| 10/10 [00:19<00:00,  1.95s/it, best loss: 0.6669535120403483]\n",
      "100%|██████████| 10/10 [00:15<00:00,  1.59s/it, best loss: 3.6346934412773724]\n",
      "100%|██████████| 10/10 [00:19<00:00,  1.93s/it, best loss: 0.4600548285669804]\n",
      "100%|██████████| 10/10 [00:21<00:00,  2.13s/it, best loss: 0.3026847342849949]\n",
      "100%|██████████| 10/10 [00:27<00:00,  2.70s/it, best loss: 1.2773139885834162]\n",
      "100%|██████████| 10/10 [00:25<00:00,  2.50s/it, best loss: 0.32337697040026137]\n",
      "100%|██████████| 10/10 [00:16<00:00,  1.70s/it, best loss: 1.7196025129503307]\n",
      "100%|██████████| 10/10 [00:15<00:00,  1.52s/it, best loss: 2.7456120318645674]\n",
      "100%|██████████| 10/10 [00:19<00:00,  1.91s/it, best loss: 1.6157595225898078]\n",
      "100%|██████████| 10/10 [00:21<00:00,  2.16s/it, best loss: 2.021063416666385]\n",
      "100%|██████████| 10/10 [00:21<00:00,  2.12s/it, best loss: 0.744690662927556]\n",
      "100%|██████████| 10/10 [00:30<00:00,  3.06s/it, best loss: 1.2004930039564368]\n",
      "100%|██████████| 10/10 [00:22<00:00,  2.24s/it, best loss: 2.161843421067825]\n",
      "100%|██████████| 10/10 [00:21<00:00,  2.13s/it, best loss: 1.0619482416147434]\n",
      "100%|██████████| 10/10 [00:21<00:00,  2.10s/it, best loss: 5.362348889772799]\n",
      "100%|██████████| 10/10 [00:17<00:00,  1.74s/it, best loss: 1.5092051071060273]\n",
      "100%|██████████| 10/10 [00:35<00:00,  3.59s/it, best loss: 1.0541264631692127]\n",
      "100%|██████████| 10/10 [00:28<00:00,  2.89s/it, best loss: 2.8537829162208737]\n",
      "100%|██████████| 10/10 [00:30<00:00,  3.07s/it, best loss: 0.9322164913503544]\n",
      "100%|██████████| 10/10 [00:09<00:00,  1.02it/s, best loss: 1.0302737281293926]\n",
      "100%|██████████| 10/10 [00:20<00:00,  2.00s/it, best loss: 1.6953195109781818]\n",
      "100%|██████████| 10/10 [00:18<00:00,  1.80s/it, best loss: 1.5667610429282286]\n",
      "100%|██████████| 10/10 [00:14<00:00,  1.42s/it, best loss: 2.521286579277699]\n",
      "100%|██████████| 10/10 [00:12<00:00,  1.22s/it, best loss: 1.843785021060088]\n",
      "100%|██████████| 10/10 [00:17<00:00,  1.80s/it, best loss: 1.2411596662124404]\n",
      "100%|██████████| 10/10 [00:10<00:00,  1.09s/it, best loss: 2.6074145278594787]\n",
      "100%|██████████| 10/10 [00:25<00:00,  2.57s/it, best loss: 2.115181541250983]\n",
      "100%|██████████| 10/10 [00:18<00:00,  1.80s/it, best loss: 0.8131512186944702]\n",
      "100%|██████████| 10/10 [00:12<00:00,  1.23s/it, best loss: 2.4110621267064305]\n",
      "100%|██████████| 10/10 [00:20<00:00,  2.04s/it, best loss: 0.4424359790871068]\n",
      "100%|██████████| 10/10 [00:28<00:00,  2.83s/it, best loss: 0.6932385362419937]\n",
      "100%|██████████| 10/10 [00:32<00:00,  3.20s/it, best loss: 1.2397567946005477]\n",
      "100%|██████████| 10/10 [00:16<00:00,  1.66s/it, best loss: 0.5811882213838111]\n",
      "100%|██████████| 10/10 [00:18<00:00,  1.81s/it, best loss: 2.3613039141048144]\n",
      "100%|██████████| 10/10 [00:23<00:00,  2.35s/it, best loss: 2.738112208868997]\n",
      "100%|██████████| 10/10 [00:07<00:00,  1.27it/s, best loss: 0.8653809083140541]\n",
      "100%|██████████| 10/10 [00:24<00:00,  2.47s/it, best loss: 11.7549125852251]\n",
      "100%|██████████| 10/10 [00:14<00:00,  1.48s/it, best loss: 0.548404035438116]\n",
      "100%|██████████| 10/10 [00:12<00:00,  1.20s/it, best loss: 0.7952631746699802]\n",
      "100%|██████████| 10/10 [00:24<00:00,  2.49s/it, best loss: 1.2139285109636477]\n",
      "100%|██████████| 10/10 [00:18<00:00,  1.85s/it, best loss: 0.9830626847538989]\n",
      "100%|██████████| 10/10 [00:15<00:00,  1.54s/it, best loss: 0.33321356561888077]\n",
      "100%|██████████| 10/10 [00:16<00:00,  1.64s/it, best loss: 0.6640526273269387]\n",
      "100%|██████████| 10/10 [00:25<00:00,  2.58s/it, best loss: 0.5344666018915855]\n",
      "100%|██████████| 10/10 [00:23<00:00,  2.31s/it, best loss: 1.3608080176310644]\n",
      "100%|██████████| 10/10 [00:23<00:00,  2.38s/it, best loss: 9.511084559274206]\n",
      "100%|██████████| 10/10 [00:26<00:00,  2.68s/it, best loss: 1.2013426139247314]\n",
      "100%|██████████| 10/10 [00:13<00:00,  1.33s/it, best loss: 0.7220283472369131]\n",
      "100%|██████████| 10/10 [00:13<00:00,  1.37s/it, best loss: 0.5460931743661617]\n",
      "100%|██████████| 10/10 [00:12<00:00,  1.22s/it, best loss: 0.9368885346804816]\n",
      "100%|██████████| 10/10 [00:20<00:00,  2.07s/it, best loss: 0.532810558619417]\n",
      "100%|██████████| 10/10 [00:22<00:00,  2.25s/it, best loss: 0.6943970448959091]\n",
      "100%|██████████| 10/10 [00:10<00:00,  1.04s/it, best loss: 1.236980979666192]\n",
      "100%|██████████| 10/10 [00:33<00:00,  3.39s/it, best loss: 1.1856863480447637]\n",
      "100%|██████████| 10/10 [00:16<00:00,  1.67s/it, best loss: 0.6030361541796294]\n",
      "100%|██████████| 10/10 [00:23<00:00,  2.40s/it, best loss: 9.144668659089739]\n",
      "100%|██████████| 10/10 [00:12<00:00,  1.24s/it, best loss: 0.457506109370459]\n",
      "100%|██████████| 10/10 [00:12<00:00,  1.28s/it, best loss: 0.4547166105399681]\n",
      "100%|██████████| 10/10 [00:16<00:00,  1.62s/it, best loss: 0.3062637432811953]\n",
      "100%|██████████| 10/10 [00:22<00:00,  2.21s/it, best loss: 1.1381550582466187]\n",
      "100%|██████████| 10/10 [00:23<00:00,  2.36s/it, best loss: 1.6264697861206119]\n",
      "100%|██████████| 10/10 [00:18<00:00,  1.84s/it, best loss: 1.0359714883967122]\n",
      "100%|██████████| 10/10 [00:20<00:00,  2.00s/it, best loss: 0.43314218536809174]\n",
      "100%|██████████| 10/10 [00:24<00:00,  2.41s/it, best loss: 1.26170007681504] \n",
      "100%|██████████| 10/10 [00:18<00:00,  1.90s/it, best loss: 0.668721225403729]\n",
      "100%|██████████| 10/10 [00:20<00:00,  2.04s/it, best loss: 1.0416580460138045]\n",
      "100%|██████████| 10/10 [00:32<00:00,  3.28s/it, best loss: 1.6132490883154438]\n",
      "100%|██████████| 10/10 [00:20<00:00,  2.05s/it, best loss: 1.9344889285489475]\n",
      "100%|██████████| 10/10 [00:10<00:00,  1.07s/it, best loss: 0.9561909405429335]\n",
      "100%|██████████| 10/10 [00:07<00:00,  1.31it/s, best loss: 0.990018876366078]\n",
      "100%|██████████| 10/10 [00:19<00:00,  1.96s/it, best loss: 0.49511113534384654]\n",
      "100%|██████████| 10/10 [00:08<00:00,  1.14it/s, best loss: 1.501087316992369]\n",
      "100%|██████████| 10/10 [00:18<00:00,  1.86s/it, best loss: 0.429772146803441] \n",
      "100%|██████████| 10/10 [00:16<00:00,  1.70s/it, best loss: 1.9447366519888933]\n",
      "100%|██████████| 10/10 [00:27<00:00,  2.76s/it, best loss: 5.511068043733299]\n",
      "100%|██████████| 10/10 [00:18<00:00,  1.85s/it, best loss: 0.4101928789454238]\n",
      "100%|██████████| 10/10 [00:11<00:00,  1.15s/it, best loss: 2.4097391778938277]\n",
      "100%|██████████| 10/10 [00:27<00:00,  2.76s/it, best loss: 0.1662768920275794]\n"
     ]
    },
    {
     "name": "stdout",
     "output_type": "stream",
     "text": [
      "100%|██████████| 10/10 [00:25<00:00,  2.56s/it, best loss: 1.157235721753681]\n",
      "100%|██████████| 10/10 [00:21<00:00,  2.10s/it, best loss: 0.27750212397547924]\n",
      "100%|██████████| 10/10 [00:28<00:00,  2.84s/it, best loss: 1.2053545319557764]\n",
      "100%|██████████| 10/10 [00:29<00:00,  2.93s/it, best loss: 1.816026063745738]\n",
      "100%|██████████| 10/10 [00:24<00:00,  2.42s/it, best loss: 0.4387782348006645]\n",
      "100%|██████████| 10/10 [00:16<00:00,  1.63s/it, best loss: 0.7104619469412546]\n",
      "100%|██████████| 10/10 [00:12<00:00,  1.29s/it, best loss: 0.5616040589856112]\n",
      "100%|██████████| 10/10 [00:23<00:00,  2.36s/it, best loss: 0.9014887067503683]\n",
      "100%|██████████| 10/10 [00:18<00:00,  1.82s/it, best loss: 0.7052987200972325]\n",
      "100%|██████████| 10/10 [00:13<00:00,  1.39s/it, best loss: 2.981796341647459]\n",
      "100%|██████████| 10/10 [00:14<00:00,  1.43s/it, best loss: 0.6244163226407781]\n",
      "100%|██████████| 10/10 [00:19<00:00,  1.95s/it, best loss: 0.7756054007083321]\n",
      "100%|██████████| 10/10 [00:21<00:00,  2.14s/it, best loss: 1.2984726918933218]\n",
      "100%|██████████| 10/10 [00:22<00:00,  2.23s/it, best loss: 0.8418534622621107]\n",
      "100%|██████████| 10/10 [00:20<00:00,  2.09s/it, best loss: 1.2468849260768144]\n",
      "100%|██████████| 10/10 [00:16<00:00,  1.60s/it, best loss: 0.47494928862350405]\n",
      "100%|██████████| 10/10 [00:18<00:00,  1.88s/it, best loss: 0.37447654455242535]\n",
      "100%|██████████| 10/10 [00:28<00:00,  2.80s/it, best loss: 1.1095071809158972]\n",
      "100%|██████████| 10/10 [00:07<00:00,  1.25it/s, best loss: 3.321149223257829]\n",
      "100%|██████████| 10/10 [00:27<00:00,  2.73s/it, best loss: 6.182104947110043]\n",
      "100%|██████████| 10/10 [00:23<00:00,  2.30s/it, best loss: 7.005670279798648]\n",
      "100%|██████████| 10/10 [00:24<00:00,  2.43s/it, best loss: 0.8781441035213896]\n",
      "100%|██████████| 10/10 [00:23<00:00,  2.38s/it, best loss: 4.620341889424985]\n",
      "100%|██████████| 10/10 [00:20<00:00,  2.08s/it, best loss: 0.922237601278265]\n",
      "100%|██████████| 10/10 [00:22<00:00,  2.23s/it, best loss: 0.6828497758541495]\n",
      "100%|██████████| 10/10 [00:26<00:00,  2.65s/it, best loss: 1.0190859486480384]\n",
      "100%|██████████| 10/10 [00:17<00:00,  1.75s/it, best loss: 1.0832902453735915]\n",
      "100%|██████████| 10/10 [00:11<00:00,  1.12s/it, best loss: 3.2724188295718597]\n",
      "100%|██████████| 10/10 [00:25<00:00,  2.57s/it, best loss: 1.8001956766169722]\n",
      "100%|██████████| 10/10 [00:17<00:00,  1.73s/it, best loss: 0.5428005571665906]\n",
      "100%|██████████| 10/10 [00:27<00:00,  2.74s/it, best loss: 8.783668662675549]\n",
      "100%|██████████| 10/10 [00:16<00:00,  1.60s/it, best loss: 0.4046802047054578]\n",
      "100%|██████████| 10/10 [00:12<00:00,  1.29s/it, best loss: 1.0155651984024863]\n",
      "100%|██████████| 10/10 [00:09<00:00,  1.02it/s, best loss: 1.647166342480142]\n",
      "100%|██████████| 10/10 [00:26<00:00,  2.69s/it, best loss: 2.93104937312018]\n",
      "100%|██████████| 10/10 [00:26<00:00,  2.67s/it, best loss: 1.303493440279512]\n",
      "100%|██████████| 10/10 [00:16<00:00,  1.60s/it, best loss: 0.4346898965663278]\n",
      "100%|██████████| 10/10 [00:13<00:00,  1.40s/it, best loss: 0.8942411480717847]\n",
      "100%|██████████| 10/10 [00:09<00:00,  1.01it/s, best loss: 2.6088712724371548]\n",
      "100%|██████████| 10/10 [00:14<00:00,  1.44s/it, best loss: 0.9171807009187266]\n",
      "100%|██████████| 10/10 [00:26<00:00,  2.64s/it, best loss: 10.39518158176682]\n",
      "100%|██████████| 10/10 [00:24<00:00,  2.49s/it, best loss: 1.75679634260491] \n",
      "100%|██████████| 10/10 [00:33<00:00,  3.39s/it, best loss: 9.26152067601303] \n",
      "100%|██████████| 10/10 [00:30<00:00,  3.01s/it, best loss: 0.4742643487842042]\n",
      "100%|██████████| 10/10 [00:20<00:00,  2.05s/it, best loss: 1.3341871245522674]\n",
      "100%|██████████| 10/10 [00:18<00:00,  1.82s/it, best loss: 0.5039531832222969]\n",
      "100%|██████████| 10/10 [00:13<00:00,  1.36s/it, best loss: 0.9553848539287683]\n",
      "100%|██████████| 10/10 [00:20<00:00,  2.09s/it, best loss: 9.604855899521395]\n",
      "100%|██████████| 10/10 [00:11<00:00,  1.12s/it, best loss: 0.8505021080288231]\n",
      "100%|██████████| 10/10 [00:20<00:00,  2.05s/it, best loss: 0.4966177546431277]\n",
      "100%|██████████| 10/10 [00:27<00:00,  2.75s/it, best loss: 0.7983672911453388]\n",
      "100%|██████████| 10/10 [00:24<00:00,  2.50s/it, best loss: 0.679273674301788]\n",
      "100%|██████████| 10/10 [00:22<00:00,  2.26s/it, best loss: 1.0833598515270775]\n",
      "100%|██████████| 10/10 [00:21<00:00,  2.16s/it, best loss: 0.418351955340295] \n",
      "100%|██████████| 10/10 [00:25<00:00,  2.59s/it, best loss: 13.468068521705003]\n",
      "100%|██████████| 10/10 [00:09<00:00,  1.08it/s, best loss: 0.8509830623976763]\n",
      "100%|██████████| 10/10 [00:19<00:00,  1.96s/it, best loss: 1.114560994795905]\n",
      "100%|██████████| 10/10 [00:22<00:00,  2.24s/it, best loss: 0.6065155089768188]\n",
      "100%|██████████| 10/10 [00:14<00:00,  1.43s/it, best loss: 0.34194897965590837]\n",
      "100%|██████████| 10/10 [00:22<00:00,  2.30s/it, best loss: 0.48996283135686364]\n",
      "100%|██████████| 10/10 [00:20<00:00,  2.03s/it, best loss: 0.22156809731790497]\n",
      "100%|██████████| 10/10 [00:18<00:00,  1.81s/it, best loss: 1.0725203458701171]\n",
      "100%|██████████| 10/10 [00:27<00:00,  2.78s/it, best loss: 0.9383967464056768]\n",
      "100%|██████████| 10/10 [00:15<00:00,  1.53s/it, best loss: 1.3196906953641556]\n",
      "100%|██████████| 10/10 [00:39<00:00,  3.98s/it, best loss: 11.251270356506856]\n",
      "100%|██████████| 10/10 [00:13<00:00,  1.38s/it, best loss: 1.3886113376744704]\n",
      "100%|██████████| 10/10 [00:29<00:00,  2.98s/it, best loss: 1.2004672605430406]\n",
      "100%|██████████| 10/10 [00:16<00:00,  1.68s/it, best loss: 1.0807696395701067]\n",
      "100%|██████████| 10/10 [00:23<00:00,  2.40s/it, best loss: 1.3987715154787572]\n",
      "100%|██████████| 10/10 [00:07<00:00,  1.33it/s, best loss: 0.7416406618583082]\n",
      "100%|██████████| 10/10 [00:15<00:00,  1.55s/it, best loss: 0.44120179609039856]\n",
      "100%|██████████| 10/10 [00:15<00:00,  1.50s/it, best loss: 0.33486886659449994]\n",
      "100%|██████████| 10/10 [00:16<00:00,  1.63s/it, best loss: 7.718158639472327]\n",
      "100%|██████████| 10/10 [00:20<00:00,  2.07s/it, best loss: 1.2860716524598257]\n",
      "100%|██████████| 10/10 [00:21<00:00,  2.15s/it, best loss: 9.141873599527003]\n",
      "100%|██████████| 10/10 [00:19<00:00,  1.92s/it, best loss: 0.6795544618017385]\n",
      "100%|██████████| 10/10 [00:18<00:00,  1.87s/it, best loss: 0.6010364065138069]\n",
      "100%|██████████| 10/10 [00:11<00:00,  1.13s/it, best loss: 0.8980345336620054]\n",
      "100%|██████████| 10/10 [00:18<00:00,  1.85s/it, best loss: 0.7542626068431914]\n",
      "100%|██████████| 10/10 [00:12<00:00,  1.26s/it, best loss: 0.4861297798466291]\n",
      "100%|██████████| 10/10 [00:23<00:00,  2.33s/it, best loss: 7.556128837000666]\n",
      "100%|██████████| 10/10 [00:26<00:00,  2.64s/it, best loss: 0.8315530523146214]\n",
      "100%|██████████| 10/10 [00:31<00:00,  3.15s/it, best loss: 1.8394642744400007]\n",
      "100%|██████████| 10/10 [00:28<00:00,  2.85s/it, best loss: 1.167133255981989]\n",
      "100%|██████████| 10/10 [00:20<00:00,  2.06s/it, best loss: 0.6860630436429561]\n",
      "100%|██████████| 10/10 [00:39<00:00,  3.95s/it, best loss: 2.2351725466128722]\n",
      "100%|██████████| 10/10 [00:25<00:00,  2.54s/it, best loss: 1.4298208988504009]\n",
      "100%|██████████| 10/10 [00:21<00:00,  2.10s/it, best loss: 0.17861153901885057]\n",
      "100%|██████████| 10/10 [00:24<00:00,  2.49s/it, best loss: 0.868524092705028]\n",
      "100%|██████████| 10/10 [00:23<00:00,  2.40s/it, best loss: 0.4019850200693605]\n",
      "100%|██████████| 10/10 [00:33<00:00,  3.33s/it, best loss: 0.5804191553944059]\n",
      "100%|██████████| 10/10 [00:16<00:00,  1.69s/it, best loss: 0.7415658852540584]\n",
      "100%|██████████| 10/10 [00:16<00:00,  1.67s/it, best loss: 0.4173217147655497]\n",
      "100%|██████████| 10/10 [00:17<00:00,  1.79s/it, best loss: 0.8681285576921013]\n",
      "100%|██████████| 10/10 [00:33<00:00,  3.33s/it, best loss: 1.1897214738077704]\n",
      "100%|██████████| 10/10 [00:20<00:00,  2.03s/it, best loss: 0.8125169501392719]\n",
      "100%|██████████| 10/10 [00:12<00:00,  1.29s/it, best loss: 0.5867890408394406]\n",
      "100%|██████████| 10/10 [00:22<00:00,  2.26s/it, best loss: 5.726724471605821]\n",
      "100%|██████████| 10/10 [00:25<00:00,  2.51s/it, best loss: 1.263594554179618]\n",
      "100%|██████████| 10/10 [00:18<00:00,  1.86s/it, best loss: 0.36918456348546586]\n",
      "100%|██████████| 10/10 [00:22<00:00,  2.24s/it, best loss: 0.6472918989042822]\n",
      "100%|██████████| 10/10 [00:19<00:00,  1.98s/it, best loss: 1.5839615633707025]\n",
      "100%|██████████| 10/10 [00:23<00:00,  2.40s/it, best loss: 1.2115213163080405]\n"
     ]
    },
    {
     "name": "stdout",
     "output_type": "stream",
     "text": [
      "100%|██████████| 10/10 [00:11<00:00,  1.10s/it, best loss: 0.8072016994827202]\n",
      "100%|██████████| 10/10 [00:17<00:00,  1.80s/it, best loss: 7.356009830561059]\n",
      "100%|██████████| 10/10 [00:15<00:00,  1.51s/it, best loss: 1.1459910828479551]\n",
      "100%|██████████| 10/10 [00:22<00:00,  2.23s/it, best loss: 1.6427293477134801]\n",
      "100%|██████████| 10/10 [00:16<00:00,  1.69s/it, best loss: 0.4996671190097292]\n",
      "100%|██████████| 10/10 [00:27<00:00,  2.71s/it, best loss: 1.3093001125077193]\n",
      "100%|██████████| 10/10 [00:39<00:00,  3.97s/it, best loss: 1.7598488262388428]\n",
      "100%|██████████| 10/10 [00:21<00:00,  2.19s/it, best loss: 0.5491918587973221]\n",
      "100%|██████████| 10/10 [00:21<00:00,  2.10s/it, best loss: 1.0558278655090925]\n",
      "100%|██████████| 10/10 [00:17<00:00,  1.73s/it, best loss: 1.2163029391403808]\n",
      "100%|██████████| 10/10 [00:14<00:00,  1.48s/it, best loss: 0.9201320003479847]\n",
      "100%|██████████| 10/10 [00:19<00:00,  1.95s/it, best loss: 1.4903544577681733]\n",
      "100%|██████████| 10/10 [00:25<00:00,  2.57s/it, best loss: 1.2311720036439917]\n",
      "100%|██████████| 10/10 [00:21<00:00,  2.13s/it, best loss: 0.8986850211963965]\n",
      "100%|██████████| 10/10 [00:19<00:00,  1.93s/it, best loss: 1.3722585489549177]\n",
      "100%|██████████| 10/10 [00:15<00:00,  1.52s/it, best loss: 0.5762552191182971]\n",
      "100%|██████████| 10/10 [00:17<00:00,  1.71s/it, best loss: 1.1021264521689274]\n",
      "100%|██████████| 10/10 [00:17<00:00,  1.75s/it, best loss: 0.45411353601333926]\n",
      "100%|██████████| 10/10 [00:15<00:00,  1.57s/it, best loss: 0.36963049069531617]\n",
      "100%|██████████| 10/10 [00:25<00:00,  2.55s/it, best loss: 3.0866312679504837]\n",
      "100%|██████████| 10/10 [00:32<00:00,  3.27s/it, best loss: 1.5563975747551602]\n",
      "100%|██████████| 10/10 [00:10<00:00,  1.02s/it, best loss: 2.922929978818735]\n",
      "100%|██████████| 10/10 [00:15<00:00,  1.57s/it, best loss: 0.9780547737770517]\n",
      "100%|██████████| 10/10 [00:29<00:00,  2.97s/it, best loss: 8.297077580415788]\n",
      "100%|██████████| 10/10 [00:23<00:00,  2.31s/it, best loss: 0.8397302523298361]\n",
      "100%|██████████| 10/10 [00:21<00:00,  2.17s/it, best loss: 1.141974144083327]\n",
      "100%|██████████| 10/10 [00:07<00:00,  1.30it/s, best loss: 0.978910931728695]\n",
      "100%|██████████| 10/10 [00:27<00:00,  2.79s/it, best loss: 1.7400540688468331]\n",
      "100%|██████████| 10/10 [00:10<00:00,  1.01s/it, best loss: 0.9199720523408188]\n",
      "100%|██████████| 10/10 [00:21<00:00,  2.13s/it, best loss: 0.5463480232540402]\n",
      "100%|██████████| 10/10 [00:22<00:00,  2.26s/it, best loss: 12.535074489749823]\n",
      "100%|██████████| 10/10 [00:14<00:00,  1.49s/it, best loss: 0.7894498963841684]\n",
      "100%|██████████| 10/10 [00:24<00:00,  2.46s/it, best loss: 0.524876156585255]\n",
      "100%|██████████| 10/10 [00:30<00:00,  3.05s/it, best loss: 1.0049272135854852]\n",
      "100%|██████████| 10/10 [00:18<00:00,  1.81s/it, best loss: 1.2227248051057213]\n",
      "100%|██████████| 10/10 [00:16<00:00,  1.68s/it, best loss: 6.219436911651206]\n",
      "100%|██████████| 10/10 [00:16<00:00,  1.68s/it, best loss: 3.3975018726654196]\n",
      "100%|██████████| 10/10 [00:24<00:00,  2.44s/it, best loss: 1.0234119097130228]\n",
      "100%|██████████| 10/10 [00:28<00:00,  2.81s/it, best loss: 1.0952056799588965]\n",
      "100%|██████████| 10/10 [00:24<00:00,  2.45s/it, best loss: 1.2864156997056573]\n",
      "100%|██████████| 10/10 [00:19<00:00,  1.98s/it, best loss: 1.692044119130008]\n",
      "100%|██████████| 10/10 [00:13<00:00,  1.39s/it, best loss: 0.4435536806808154]\n",
      "100%|██████████| 10/10 [00:25<00:00,  2.55s/it, best loss: 0.38592933433856136]\n",
      "100%|██████████| 10/10 [00:18<00:00,  1.85s/it, best loss: 0.6559622446437218]\n",
      "100%|██████████| 10/10 [00:13<00:00,  1.34s/it, best loss: 0.5255938738013153]\n",
      "100%|██████████| 10/10 [00:28<00:00,  2.89s/it, best loss: 0.5588610246058922]\n",
      "100%|██████████| 10/10 [00:19<00:00,  1.92s/it, best loss: 1.141594975169386]\n",
      "100%|██████████| 10/10 [00:23<00:00,  2.38s/it, best loss: 0.40704601685471625]\n",
      "100%|██████████| 10/10 [00:14<00:00,  1.47s/it, best loss: 0.5475247150406435]\n",
      "100%|██████████| 10/10 [00:24<00:00,  2.44s/it, best loss: 1.3934214540055285]\n",
      "100%|██████████| 10/10 [00:34<00:00,  3.49s/it, best loss: 0.6239917703796596]\n",
      "100%|██████████| 10/10 [00:14<00:00,  1.42s/it, best loss: 10.21254373188125]\n",
      "100%|██████████| 10/10 [00:25<00:00,  2.58s/it, best loss: 9.059605003639337]\n",
      "100%|██████████| 10/10 [00:33<00:00,  3.32s/it, best loss: 12.637617206771896]\n",
      "100%|██████████| 10/10 [00:19<00:00,  1.91s/it, best loss: 1.181745674621065]\n",
      "100%|██████████| 10/10 [00:13<00:00,  1.37s/it, best loss: 1.5951064727702584]\n",
      "100%|██████████| 10/10 [00:14<00:00,  1.42s/it, best loss: 1.3303780506189375]\n",
      "100%|██████████| 10/10 [00:30<00:00,  3.05s/it, best loss: 0.3012393812358656]\n",
      "100%|██████████| 10/10 [00:13<00:00,  1.33s/it, best loss: 0.7168885882337753]\n",
      "100%|██████████| 10/10 [00:30<00:00,  3.03s/it, best loss: 0.5233588630397054]\n",
      "100%|██████████| 10/10 [00:28<00:00,  2.80s/it, best loss: 2.4246787662757776]\n",
      "100%|██████████| 10/10 [00:27<00:00,  2.77s/it, best loss: 1.87180939093875]\n",
      "100%|██████████| 10/10 [00:21<00:00,  2.18s/it, best loss: 1.7771389961657293]\n",
      "100%|██████████| 10/10 [00:33<00:00,  3.36s/it, best loss: 7.123663232525403]\n",
      "100%|██████████| 10/10 [00:24<00:00,  2.49s/it, best loss: 0.8057059732520327]\n",
      "100%|██████████| 10/10 [00:20<00:00,  2.06s/it, best loss: 1.318453426006698]\n",
      "100%|██████████| 10/10 [00:19<00:00,  1.98s/it, best loss: 1.8336948675860798]\n",
      "100%|██████████| 10/10 [00:11<00:00,  1.16s/it, best loss: 0.337083242998238] \n",
      "100%|██████████| 10/10 [00:29<00:00,  2.93s/it, best loss: 0.8209261648743956]\n",
      "100%|██████████| 10/10 [00:16<00:00,  1.65s/it, best loss: 12.793365819194772]\n",
      "100%|██████████| 10/10 [00:24<00:00,  2.40s/it, best loss: 1.3841176297199178]\n",
      "100%|██████████| 10/10 [00:13<00:00,  1.33s/it, best loss: 0.6359864950168007]\n",
      "100%|██████████| 10/10 [00:32<00:00,  3.27s/it, best loss: 0.48494213349919574]\n",
      "100%|██████████| 10/10 [00:16<00:00,  1.69s/it, best loss: 0.36838969295275936]\n",
      "100%|██████████| 10/10 [00:08<00:00,  1.17it/s, best loss: 1.3995376812850346]\n",
      "100%|██████████| 10/10 [00:14<00:00,  1.48s/it, best loss: 0.6048860900792065]\n",
      "100%|██████████| 10/10 [00:13<00:00,  1.38s/it, best loss: 1.6796584916072095]\n",
      "100%|██████████| 10/10 [00:12<00:00,  1.23s/it, best loss: 0.9472711131436825]\n",
      "100%|██████████| 10/10 [00:18<00:00,  1.85s/it, best loss: 0.48821092969307284]\n",
      "100%|██████████| 10/10 [00:12<00:00,  1.28s/it, best loss: 1.8099614695381965]\n",
      "100%|██████████| 10/10 [00:24<00:00,  2.49s/it, best loss: 7.859152544501951]\n",
      "100%|██████████| 10/10 [00:27<00:00,  2.72s/it, best loss: 0.9797011287732627]\n",
      "100%|██████████| 10/10 [00:27<00:00,  2.76s/it, best loss: 3.2171092988344325]\n",
      "100%|██████████| 10/10 [00:18<00:00,  1.85s/it, best loss: 0.8775617116695595]\n",
      "100%|██████████| 10/10 [00:19<00:00,  1.95s/it, best loss: 0.455738662766073]\n",
      "100%|██████████| 10/10 [00:22<00:00,  2.26s/it, best loss: 0.5353263974642288]\n",
      "100%|██████████| 10/10 [00:13<00:00,  1.38s/it, best loss: 9.14153944272242] \n",
      "100%|██████████| 10/10 [00:18<00:00,  1.87s/it, best loss: 0.4057217891628137]\n",
      "100%|██████████| 10/10 [00:28<00:00,  2.84s/it, best loss: 0.40622200886182863]\n",
      "100%|██████████| 10/10 [00:21<00:00,  2.13s/it, best loss: 1.7365658152728136]\n",
      "100%|██████████| 10/10 [00:30<00:00,  3.06s/it, best loss: 4.614257600000127]\n",
      "100%|██████████| 10/10 [00:39<00:00,  3.96s/it, best loss: 1.3137017304317864]\n",
      "100%|██████████| 10/10 [00:14<00:00,  1.44s/it, best loss: 0.9129924725686642]\n",
      "100%|██████████| 10/10 [00:23<00:00,  2.35s/it, best loss: 0.8945799171557636]\n",
      "100%|██████████| 10/10 [00:22<00:00,  2.24s/it, best loss: 1.3049415978504302]\n",
      "100%|██████████| 10/10 [00:22<00:00,  2.26s/it, best loss: 1.0262516941941728]\n",
      "100%|██████████| 10/10 [00:32<00:00,  3.21s/it, best loss: 0.721749091269313]\n",
      "100%|██████████| 10/10 [00:22<00:00,  2.26s/it, best loss: 1.4420994656638053]\n",
      "100%|██████████| 10/10 [00:18<00:00,  1.82s/it, best loss: 1.3397314880246365]\n",
      "100%|██████████| 10/10 [00:30<00:00,  3.05s/it, best loss: 6.19460910369041]\n",
      "100%|██████████| 10/10 [00:16<00:00,  1.66s/it, best loss: 1.315471316400982]\n",
      "100%|██████████| 10/10 [00:19<00:00,  1.94s/it, best loss: 0.6159701895713282]\n",
      "100%|██████████| 10/10 [00:24<00:00,  2.43s/it, best loss: 1.0962489805842572]\n"
     ]
    },
    {
     "name": "stdout",
     "output_type": "stream",
     "text": [
      "100%|██████████| 10/10 [00:15<00:00,  1.54s/it, best loss: 1.4914003603979296]\n",
      "100%|██████████| 10/10 [00:35<00:00,  3.52s/it, best loss: 0.47895528852901315]\n",
      "100%|██████████| 10/10 [00:18<00:00,  1.87s/it, best loss: 1.5019826880048426]\n",
      "100%|██████████| 10/10 [00:22<00:00,  2.26s/it, best loss: 2.06759345621745]\n",
      "100%|██████████| 10/10 [00:23<00:00,  2.31s/it, best loss: 0.39857420412616723]\n",
      "100%|██████████| 10/10 [00:30<00:00,  3.08s/it, best loss: 0.6567519037619436]\n",
      "100%|██████████| 10/10 [00:19<00:00,  1.90s/it, best loss: 0.6811100394541056]\n",
      "100%|██████████| 10/10 [00:30<00:00,  3.09s/it, best loss: 0.5644649072230158]\n",
      "100%|██████████| 10/10 [00:21<00:00,  2.11s/it, best loss: 0.48432451147101224]\n",
      "100%|██████████| 10/10 [00:34<00:00,  3.49s/it, best loss: 0.6912325987683708]\n",
      "100%|██████████| 10/10 [00:17<00:00,  1.78s/it, best loss: 1.163887096352132]\n",
      "100%|██████████| 10/10 [00:22<00:00,  2.22s/it, best loss: 0.42701493221690534]\n",
      "100%|██████████| 10/10 [00:35<00:00,  3.56s/it, best loss: 0.6428499356388367]\n",
      "100%|██████████| 10/10 [00:12<00:00,  1.25s/it, best loss: 0.28019716740391315]\n",
      "100%|██████████| 10/10 [00:24<00:00,  2.40s/it, best loss: 0.9883613924268254]\n",
      "100%|██████████| 10/10 [00:08<00:00,  1.19it/s, best loss: 0.4381973211369985]\n",
      "100%|██████████| 10/10 [00:27<00:00,  2.71s/it, best loss: 0.18613789639085576]\n",
      "100%|██████████| 10/10 [00:12<00:00,  1.22s/it, best loss: 0.6222952634825863]\n",
      "100%|██████████| 10/10 [00:18<00:00,  1.82s/it, best loss: 0.22440944597182594]\n",
      "100%|██████████| 10/10 [00:33<00:00,  3.37s/it, best loss: 0.23360629433053856]\n",
      "100%|██████████| 10/10 [00:27<00:00,  2.77s/it, best loss: 0.5390573273842235]\n",
      "100%|██████████| 10/10 [00:15<00:00,  1.54s/it, best loss: 1.0645903564495678]\n",
      "100%|██████████| 10/10 [00:22<00:00,  2.25s/it, best loss: 0.4863240399407923]\n",
      "100%|██████████| 10/10 [00:20<00:00,  2.01s/it, best loss: 0.5021507017660548]\n",
      "100%|██████████| 10/10 [00:13<00:00,  1.33s/it, best loss: 0.23656144728187453]\n",
      "100%|██████████| 10/10 [00:26<00:00,  2.67s/it, best loss: 0.6925434645184103]\n",
      "100%|██████████| 10/10 [00:09<00:00,  1.07it/s, best loss: 0.48643920181003253]\n",
      "100%|██████████| 10/10 [00:08<00:00,  1.21it/s, best loss: 1.478738530208318]\n",
      "100%|██████████| 10/10 [00:11<00:00,  1.20s/it, best loss: 0.5448163668292123]\n",
      "100%|██████████| 10/10 [00:06<00:00,  1.48it/s, best loss: 1.1038139044618562]\n",
      "100%|██████████| 10/10 [00:17<00:00,  1.75s/it, best loss: 0.4365334377575948]\n",
      "100%|██████████| 10/10 [00:17<00:00,  1.73s/it, best loss: 1.1112901212658646]\n",
      "100%|██████████| 10/10 [00:24<00:00,  2.43s/it, best loss: 1.0286515043824815]\n",
      "100%|██████████| 10/10 [00:20<00:00,  2.06s/it, best loss: 0.3733290875346887]\n",
      "100%|██████████| 10/10 [00:14<00:00,  1.41s/it, best loss: 0.574156380220808]\n",
      "100%|██████████| 10/10 [00:29<00:00,  2.97s/it, best loss: 1.372364963119621]\n",
      "100%|██████████| 10/10 [00:35<00:00,  3.53s/it, best loss: 2.0126280810631356]\n",
      "100%|██████████| 10/10 [00:30<00:00,  3.04s/it, best loss: 0.6009879109363135]\n",
      "100%|██████████| 10/10 [00:11<00:00,  1.16s/it, best loss: 0.4740178344963259]\n",
      "100%|██████████| 10/10 [00:21<00:00,  2.15s/it, best loss: 1.8187267143406407]\n",
      "100%|██████████| 10/10 [00:22<00:00,  2.26s/it, best loss: 0.3504747575779123]\n",
      "100%|██████████| 10/10 [00:10<00:00,  1.10s/it, best loss: 0.5628410579995372]\n",
      "100%|██████████| 10/10 [00:36<00:00,  3.62s/it, best loss: 0.4758089429032123]\n",
      "100%|██████████| 10/10 [00:11<00:00,  1.10s/it, best loss: 0.36583885947893185]\n",
      "100%|██████████| 10/10 [00:11<00:00,  1.13s/it, best loss: 0.7473509720905931]\n",
      "100%|██████████| 10/10 [00:17<00:00,  1.76s/it, best loss: 1.2470445542016813]\n",
      "100%|██████████| 10/10 [00:17<00:00,  1.74s/it, best loss: 1.9376637810644968]\n",
      "100%|██████████| 10/10 [00:17<00:00,  1.75s/it, best loss: 0.4603752172914143]\n",
      "100%|██████████| 10/10 [00:16<00:00,  1.68s/it, best loss: 0.6397996227255671]\n",
      "100%|██████████| 10/10 [00:20<00:00,  2.09s/it, best loss: 0.5431726718137766]\n",
      "100%|██████████| 10/10 [00:15<00:00,  1.50s/it, best loss: 0.42249844784759577]\n",
      "100%|██████████| 10/10 [00:26<00:00,  2.60s/it, best loss: 0.6397417937723053]\n",
      "100%|██████████| 10/10 [00:21<00:00,  2.12s/it, best loss: 0.39723429330851334]\n",
      "100%|██████████| 10/10 [00:26<00:00,  2.69s/it, best loss: 0.519106014539223]\n",
      "100%|██████████| 10/10 [00:19<00:00,  1.92s/it, best loss: 0.7626093007987206]\n",
      "100%|██████████| 10/10 [00:22<00:00,  2.25s/it, best loss: 0.26052784438165344]\n",
      "100%|██████████| 10/10 [00:12<00:00,  1.26s/it, best loss: 0.8742984911859477]\n",
      "100%|██████████| 10/10 [00:17<00:00,  1.78s/it, best loss: 0.5801191784698622]\n",
      "100%|██████████| 10/10 [00:30<00:00,  3.01s/it, best loss: 0.1772772713300976]\n",
      "100%|██████████| 10/10 [00:20<00:00,  2.10s/it, best loss: 0.4656191692311772]\n",
      "100%|██████████| 10/10 [00:23<00:00,  2.32s/it, best loss: 0.6712219869245382]\n",
      "100%|██████████| 10/10 [00:08<00:00,  1.13it/s, best loss: 0.881968982581901]\n",
      "100%|██████████| 10/10 [00:29<00:00,  2.93s/it, best loss: 3.4917085400045687]\n",
      "100%|██████████| 10/10 [00:27<00:00,  2.75s/it, best loss: 0.6656665263499407]\n",
      "100%|██████████| 10/10 [00:28<00:00,  2.86s/it, best loss: 0.43981617838552123]\n",
      "100%|██████████| 10/10 [00:22<00:00,  2.22s/it, best loss: 0.48337512126366816]\n",
      "100%|██████████| 10/10 [00:21<00:00,  2.18s/it, best loss: 1.0556636033561047]\n",
      "100%|██████████| 10/10 [00:18<00:00,  1.83s/it, best loss: 0.5412226359606028]\n",
      "100%|██████████| 10/10 [00:10<00:00,  1.05s/it, best loss: 0.46843162359045604]\n",
      "100%|██████████| 10/10 [00:22<00:00,  2.23s/it, best loss: 0.3731908381181763]\n",
      "100%|██████████| 10/10 [00:09<00:00,  1.08it/s, best loss: 0.8443299785871097]\n",
      "100%|██████████| 10/10 [00:25<00:00,  2.52s/it, best loss: 0.7271779278937976]\n",
      "100%|██████████| 10/10 [00:24<00:00,  2.49s/it, best loss: 0.6153117877490698]\n",
      "100%|██████████| 10/10 [00:11<00:00,  1.19s/it, best loss: 0.5262441240692832]\n",
      "100%|██████████| 10/10 [00:16<00:00,  1.60s/it, best loss: 0.5121848566267112]\n",
      "100%|██████████| 10/10 [00:16<00:00,  1.67s/it, best loss: 0.5522074748110073]\n",
      "100%|██████████| 10/10 [00:19<00:00,  2.00s/it, best loss: 0.42589382861428315]\n",
      "100%|██████████| 10/10 [00:29<00:00,  2.93s/it, best loss: 0.35791986057228964]\n",
      "100%|██████████| 10/10 [00:35<00:00,  3.59s/it, best loss: 1.72388764394447] \n",
      "100%|██████████| 10/10 [00:23<00:00,  2.32s/it, best loss: 0.9136496061324267]\n",
      "100%|██████████| 10/10 [00:21<00:00,  2.10s/it, best loss: 0.2957061214388723]\n",
      "100%|██████████| 10/10 [00:21<00:00,  2.19s/it, best loss: 0.5535498754225102]\n",
      "100%|██████████| 10/10 [00:29<00:00,  2.95s/it, best loss: 0.25410080386163886]\n",
      "100%|██████████| 10/10 [00:18<00:00,  1.84s/it, best loss: 0.3328614852509357]\n",
      "100%|██████████| 10/10 [00:14<00:00,  1.45s/it, best loss: 0.4650782449523462]\n",
      "100%|██████████| 10/10 [00:11<00:00,  1.19s/it, best loss: 0.42978740870869064]\n",
      "100%|██████████| 10/10 [00:23<00:00,  2.40s/it, best loss: 0.9014849517163399]\n",
      "100%|██████████| 10/10 [00:15<00:00,  1.60s/it, best loss: 0.35069781441362985]\n",
      "100%|██████████| 10/10 [00:22<00:00,  2.28s/it, best loss: 1.279374791809631]\n",
      "100%|██████████| 10/10 [00:14<00:00,  1.49s/it, best loss: 0.30071313379531206]\n",
      "100%|██████████| 10/10 [00:13<00:00,  1.32s/it, best loss: 0.5408012922518042]\n",
      "100%|██████████| 10/10 [00:24<00:00,  2.47s/it, best loss: 0.9410392178087592]\n",
      "100%|██████████| 10/10 [00:21<00:00,  2.19s/it, best loss: 0.6402505080125501]\n",
      "100%|██████████| 10/10 [00:09<00:00,  1.06it/s, best loss: 0.3834945376918647]\n",
      "100%|██████████| 10/10 [00:12<00:00,  1.24s/it, best loss: 1.7287588973307253]\n",
      "100%|██████████| 10/10 [00:14<00:00,  1.42s/it, best loss: 0.5610806636899307]\n",
      "100%|██████████| 10/10 [00:30<00:00,  3.01s/it, best loss: 0.6755173066533704]\n",
      "100%|██████████| 10/10 [00:14<00:00,  1.40s/it, best loss: 0.47255851404863247]\n",
      "100%|██████████| 10/10 [00:09<00:00,  1.04it/s, best loss: 0.739968945203208]\n",
      "100%|██████████| 10/10 [00:27<00:00,  2.71s/it, best loss: 0.8598630268057726]\n",
      "100%|██████████| 10/10 [00:14<00:00,  1.48s/it, best loss: 0.5592642293505959]\n",
      "100%|██████████| 10/10 [00:18<00:00,  1.90s/it, best loss: 1.1447648705505333]\n",
      "100%|██████████| 10/10 [00:16<00:00,  1.66s/it, best loss: 0.3748285627440535]\n"
     ]
    },
    {
     "name": "stdout",
     "output_type": "stream",
     "text": [
      "100%|██████████| 10/10 [00:22<00:00,  2.28s/it, best loss: 0.9729851819104026]\n",
      "100%|██████████| 10/10 [00:14<00:00,  1.43s/it, best loss: 0.7180906759888496]\n",
      "100%|██████████| 10/10 [00:27<00:00,  2.70s/it, best loss: 0.5603164993024939]\n",
      "100%|██████████| 10/10 [00:25<00:00,  2.53s/it, best loss: 0.8732600587776657]\n",
      "100%|██████████| 10/10 [00:13<00:00,  1.31s/it, best loss: 0.6358595625960168]\n",
      "100%|██████████| 10/10 [00:22<00:00,  2.29s/it, best loss: 0.5598786851950257]\n",
      "100%|██████████| 10/10 [00:08<00:00,  1.13it/s, best loss: 0.2888196647207389]\n",
      "100%|██████████| 10/10 [00:19<00:00,  1.96s/it, best loss: 0.7304310346117311]\n",
      "100%|██████████| 10/10 [00:09<00:00,  1.06it/s, best loss: 0.2395871126854611]\n",
      "100%|██████████| 10/10 [00:07<00:00,  1.40it/s, best loss: 0.6630063668947211]\n",
      "100%|██████████| 10/10 [00:21<00:00,  2.14s/it, best loss: 0.361802777029089]\n",
      "100%|██████████| 10/10 [00:10<00:00,  1.07s/it, best loss: 0.28855798208401445]\n",
      "100%|██████████| 10/10 [00:28<00:00,  2.84s/it, best loss: 0.5392862536874918]\n",
      "100%|██████████| 10/10 [00:23<00:00,  2.36s/it, best loss: 0.6701431514356488]\n",
      "100%|██████████| 10/10 [00:20<00:00,  2.04s/it, best loss: 0.5062797647221097]\n",
      "100%|██████████| 10/10 [00:31<00:00,  3.19s/it, best loss: 1.041455041567444]\n",
      "100%|██████████| 10/10 [00:27<00:00,  2.77s/it, best loss: 0.6573555139584434]\n",
      "100%|██████████| 10/10 [00:28<00:00,  2.87s/it, best loss: 0.9605891667916407]\n",
      "100%|██████████| 10/10 [00:31<00:00,  3.17s/it, best loss: 0.3833857993110544]\n",
      "100%|██████████| 10/10 [00:22<00:00,  2.24s/it, best loss: 0.22143840511892074]\n",
      "100%|██████████| 10/10 [00:19<00:00,  1.92s/it, best loss: 1.030620303682567]\n",
      "100%|██████████| 10/10 [00:10<00:00,  1.00s/it, best loss: 0.7724228713591451]\n",
      "100%|██████████| 10/10 [00:20<00:00,  2.04s/it, best loss: 1.022366100940333]\n",
      "100%|██████████| 10/10 [00:22<00:00,  2.27s/it, best loss: 0.5166024113216797]\n",
      "100%|██████████| 10/10 [00:19<00:00,  1.98s/it, best loss: 2.599654515312726]\n",
      "100%|██████████| 10/10 [00:19<00:00,  1.97s/it, best loss: 0.42135825164235646]\n",
      "100%|██████████| 10/10 [00:13<00:00,  1.36s/it, best loss: 0.9184193908064421]\n",
      "100%|██████████| 10/10 [00:15<00:00,  1.51s/it, best loss: 0.35432031610465287]\n",
      "100%|██████████| 10/10 [00:16<00:00,  1.61s/it, best loss: 0.4126200298028438]\n",
      "100%|██████████| 10/10 [00:18<00:00,  1.87s/it, best loss: 3.406157028248243]\n",
      "100%|██████████| 10/10 [00:19<00:00,  1.95s/it, best loss: 0.38143052490383494]\n",
      "100%|██████████| 10/10 [00:24<00:00,  2.44s/it, best loss: 0.7692781012637497]\n",
      "100%|██████████| 10/10 [00:05<00:00,  1.96it/s, best loss: 1.4607841456504616]\n",
      "100%|██████████| 10/10 [00:20<00:00,  2.07s/it, best loss: 1.041886472453994]\n",
      "100%|██████████| 10/10 [00:20<00:00,  2.02s/it, best loss: 0.41737032461541135]\n",
      "100%|██████████| 10/10 [00:16<00:00,  1.69s/it, best loss: 0.33496868827982523]\n",
      "100%|██████████| 10/10 [00:20<00:00,  2.06s/it, best loss: 0.5837655586985697]\n",
      "100%|██████████| 10/10 [00:22<00:00,  2.24s/it, best loss: 0.766136877708267]\n",
      "100%|██████████| 10/10 [00:13<00:00,  1.35s/it, best loss: 0.2762376158690047]\n",
      "100%|██████████| 10/10 [00:16<00:00,  1.64s/it, best loss: 0.4185696054019293]\n",
      "100%|██████████| 10/10 [00:14<00:00,  1.45s/it, best loss: 0.7588440088338516]\n",
      "100%|██████████| 10/10 [00:20<00:00,  2.06s/it, best loss: 0.7067888656873695]\n",
      "100%|██████████| 10/10 [00:31<00:00,  3.11s/it, best loss: 3.7993759159241116]\n",
      "100%|██████████| 10/10 [00:28<00:00,  2.83s/it, best loss: 0.7367977355415222]\n",
      "100%|██████████| 10/10 [00:19<00:00,  1.90s/it, best loss: 0.699757349073742]\n",
      "100%|██████████| 10/10 [00:32<00:00,  3.27s/it, best loss: 0.9177123958705047]\n",
      "100%|██████████| 10/10 [00:29<00:00,  2.91s/it, best loss: 0.4397260664574716]\n",
      "100%|██████████| 10/10 [00:19<00:00,  1.99s/it, best loss: 0.6109537597099237]\n",
      "100%|██████████| 10/10 [00:38<00:00,  3.82s/it, best loss: 0.8864529471247871]\n",
      "100%|██████████| 10/10 [00:08<00:00,  1.12it/s, best loss: 1.0286167076293027]\n",
      "100%|██████████| 10/10 [00:27<00:00,  2.70s/it, best loss: 1.027564461475458]\n",
      "100%|██████████| 10/10 [00:25<00:00,  2.52s/it, best loss: 0.5856758596697461]\n",
      "100%|██████████| 10/10 [00:15<00:00,  1.50s/it, best loss: 1.1182942838108856]\n",
      "100%|██████████| 10/10 [00:25<00:00,  2.56s/it, best loss: 2.291274860213543]\n",
      "100%|██████████| 10/10 [00:26<00:00,  2.64s/it, best loss: 1.7815969021540174]\n",
      "100%|██████████| 10/10 [00:24<00:00,  2.45s/it, best loss: 1.8174596204278286]\n",
      "100%|██████████| 10/10 [00:16<00:00,  1.61s/it, best loss: 2.362172890691498]\n",
      "100%|██████████| 10/10 [00:21<00:00,  2.16s/it, best loss: 0.8481518836536459]\n",
      "100%|██████████| 10/10 [00:09<00:00,  1.07it/s, best loss: 0.8628814828182645]\n",
      "100%|██████████| 10/10 [00:14<00:00,  1.45s/it, best loss: 1.3895968837316452]\n",
      "100%|██████████| 10/10 [00:32<00:00,  3.21s/it, best loss: 1.5625885833171942]\n",
      "100%|██████████| 10/10 [00:16<00:00,  1.63s/it, best loss: 1.3700497950748187]\n",
      "100%|██████████| 10/10 [00:24<00:00,  2.49s/it, best loss: 2.287569399962697]\n",
      "100%|██████████| 10/10 [00:22<00:00,  2.21s/it, best loss: 0.9701231890793127]\n",
      "100%|██████████| 10/10 [00:24<00:00,  2.44s/it, best loss: 0.6238868964160437]\n",
      "100%|██████████| 10/10 [00:21<00:00,  2.16s/it, best loss: 2.166098089254082]\n",
      "100%|██████████| 10/10 [00:19<00:00,  1.93s/it, best loss: 1.0819231686396875]\n",
      "100%|██████████| 10/10 [00:26<00:00,  2.65s/it, best loss: 1.6299167255169678]\n",
      "100%|██████████| 10/10 [00:17<00:00,  1.75s/it, best loss: 5.4407311914097125]\n",
      "100%|██████████| 10/10 [00:12<00:00,  1.28s/it, best loss: 0.9410692835490554]\n",
      "100%|██████████| 10/10 [00:17<00:00,  1.75s/it, best loss: 1.232047837972392]\n",
      "100%|██████████| 10/10 [00:04<00:00,  2.10it/s, best loss: 0.7890846161311235]\n",
      "100%|██████████| 10/10 [00:07<00:00,  1.29it/s, best loss: 0.9380447842678914]\n",
      "100%|██████████| 10/10 [00:14<00:00,  1.46s/it, best loss: 1.382909214432062]\n",
      "100%|██████████| 10/10 [00:16<00:00,  1.61s/it, best loss: 0.9005668486946862]\n",
      "100%|██████████| 10/10 [00:09<00:00,  1.05it/s, best loss: 1.4963204744358554]\n",
      "100%|██████████| 10/10 [00:30<00:00,  3.05s/it, best loss: 2.566268527335788]\n",
      "100%|██████████| 10/10 [00:22<00:00,  2.26s/it, best loss: 1.454427988445544]\n",
      "100%|██████████| 10/10 [00:12<00:00,  1.21s/it, best loss: 1.1898311828022838]\n",
      "100%|██████████| 10/10 [00:18<00:00,  1.88s/it, best loss: 1.1206154245110667]\n",
      "100%|██████████| 10/10 [00:27<00:00,  2.71s/it, best loss: 6.193661039858593]\n",
      "100%|██████████| 10/10 [00:23<00:00,  2.30s/it, best loss: 1.6796524331974234]\n",
      "100%|██████████| 10/10 [00:27<00:00,  2.71s/it, best loss: 0.9881502901085424]\n",
      "100%|██████████| 10/10 [00:25<00:00,  2.52s/it, best loss: 0.9219160741326848]\n",
      "100%|██████████| 10/10 [00:09<00:00,  1.04it/s, best loss: 0.6179037867416752]\n",
      "100%|██████████| 10/10 [00:27<00:00,  2.77s/it, best loss: 0.3976188176039208]\n",
      "100%|██████████| 10/10 [00:34<00:00,  3.44s/it, best loss: 1.8341032384703857]\n",
      "100%|██████████| 10/10 [00:19<00:00,  2.00s/it, best loss: 1.8626886993313065]\n",
      "100%|██████████| 10/10 [00:20<00:00,  2.03s/it, best loss: 1.7478500731727489]\n",
      "100%|██████████| 10/10 [00:19<00:00,  1.99s/it, best loss: 1.5068305640070794]\n",
      "100%|██████████| 10/10 [00:06<00:00,  1.60it/s, best loss: 1.2998017457321513]\n",
      "100%|██████████| 10/10 [00:08<00:00,  1.17it/s, best loss: 0.7401895724097393]\n",
      "100%|██████████| 10/10 [00:18<00:00,  1.90s/it, best loss: 2.8571299439467213]\n",
      "100%|██████████| 10/10 [00:25<00:00,  2.51s/it, best loss: 1.699457953475977]\n",
      "100%|██████████| 10/10 [00:16<00:00,  1.68s/it, best loss: 1.2885853712967508]\n",
      "100%|██████████| 10/10 [00:28<00:00,  2.80s/it, best loss: 2.370094497285689]\n",
      "100%|██████████| 10/10 [00:09<00:00,  1.07it/s, best loss: 0.6293261666189635]\n",
      "100%|██████████| 10/10 [00:11<00:00,  1.19s/it, best loss: 2.296293344309533]\n",
      "100%|██████████| 10/10 [00:14<00:00,  1.46s/it, best loss: 2.465971685603235]\n",
      "100%|██████████| 10/10 [00:20<00:00,  2.01s/it, best loss: 0.7683311969085141]\n",
      "100%|██████████| 10/10 [00:21<00:00,  2.12s/it, best loss: 2.2843985274373972]\n",
      "100%|██████████| 10/10 [00:09<00:00,  1.06it/s, best loss: 0.6918845175853896]\n",
      "100%|██████████| 10/10 [00:26<00:00,  2.60s/it, best loss: 1.9248639261097038]\n"
     ]
    },
    {
     "name": "stdout",
     "output_type": "stream",
     "text": [
      "100%|██████████| 10/10 [00:25<00:00,  2.59s/it, best loss: 0.8928600604373438]\n",
      "100%|██████████| 10/10 [00:20<00:00,  2.04s/it, best loss: 0.4905540202169271]\n",
      "100%|██████████| 10/10 [00:16<00:00,  1.61s/it, best loss: 1.0803363386430198]\n",
      "100%|██████████| 10/10 [00:24<00:00,  2.45s/it, best loss: 2.1199325733556735]\n",
      "100%|██████████| 10/10 [00:13<00:00,  1.33s/it, best loss: 0.4475189920465101]\n",
      "100%|██████████| 10/10 [00:17<00:00,  1.75s/it, best loss: 1.3315329527813893]\n",
      "100%|██████████| 10/10 [00:19<00:00,  1.99s/it, best loss: 1.8478609154848928]\n",
      "100%|██████████| 10/10 [00:22<00:00,  2.24s/it, best loss: 1.217885038839224]\n",
      "100%|██████████| 10/10 [00:17<00:00,  1.70s/it, best loss: 0.8328918292435095]\n",
      "100%|██████████| 10/10 [00:22<00:00,  2.28s/it, best loss: 2.521588228673188]\n",
      "100%|██████████| 10/10 [00:16<00:00,  1.69s/it, best loss: 4.627569817693657]\n",
      "100%|██████████| 10/10 [00:18<00:00,  1.89s/it, best loss: 2.002071342729537]\n",
      "100%|██████████| 10/10 [00:34<00:00,  3.42s/it, best loss: 2.0220825188345657]\n",
      "100%|██████████| 10/10 [00:26<00:00,  2.63s/it, best loss: 1.3682288088223162]\n",
      "100%|██████████| 10/10 [00:30<00:00,  3.05s/it, best loss: 1.4950931506924838]\n",
      "100%|██████████| 10/10 [00:11<00:00,  1.11s/it, best loss: 2.530521477395945]\n",
      "100%|██████████| 10/10 [00:24<00:00,  2.41s/it, best loss: 1.94808570263871] \n",
      "100%|██████████| 10/10 [00:23<00:00,  2.32s/it, best loss: 0.527740531569421]\n",
      "100%|██████████| 10/10 [00:29<00:00,  2.90s/it, best loss: 0.767272378542402]\n",
      "100%|██████████| 10/10 [00:23<00:00,  2.38s/it, best loss: 1.3127287581063904]\n",
      "100%|██████████| 10/10 [00:10<00:00,  1.06s/it, best loss: 0.6797532261104164]\n",
      "100%|██████████| 10/10 [00:14<00:00,  1.46s/it, best loss: 0.9147881620910531]\n",
      "100%|██████████| 10/10 [00:18<00:00,  1.85s/it, best loss: 1.3151931751342447]\n",
      "100%|██████████| 10/10 [00:19<00:00,  1.92s/it, best loss: 1.5697993709807692]\n",
      "100%|██████████| 10/10 [00:13<00:00,  1.34s/it, best loss: 0.6166131486313008]\n",
      "100%|██████████| 10/10 [00:18<00:00,  1.86s/it, best loss: 0.8136104936971273]\n",
      "100%|██████████| 10/10 [00:19<00:00,  1.99s/it, best loss: 1.8678558292427732]\n",
      "100%|██████████| 10/10 [00:16<00:00,  1.69s/it, best loss: 2.944991765914717]\n",
      "100%|██████████| 10/10 [00:20<00:00,  2.09s/it, best loss: 0.41810937709445517]\n",
      "100%|██████████| 10/10 [00:18<00:00,  1.83s/it, best loss: 2.4352055891568676]\n",
      "100%|██████████| 10/10 [00:19<00:00,  1.94s/it, best loss: 1.4743286885603697]\n",
      "100%|██████████| 10/10 [00:20<00:00,  2.10s/it, best loss: 1.2177468638735371]\n",
      "100%|██████████| 10/10 [00:27<00:00,  2.74s/it, best loss: 0.930092627265047]\n",
      "100%|██████████| 10/10 [00:12<00:00,  1.20s/it, best loss: 2.1578311468480216]\n",
      "100%|██████████| 10/10 [00:30<00:00,  3.04s/it, best loss: 0.9960130848449803]\n",
      "100%|██████████| 10/10 [00:30<00:00,  3.05s/it, best loss: 0.5052198288035002]\n",
      "100%|██████████| 10/10 [00:11<00:00,  1.13s/it, best loss: 2.2352821295150638]\n",
      "100%|██████████| 10/10 [00:19<00:00,  1.94s/it, best loss: 2.4297472931599415]\n",
      "100%|██████████| 10/10 [00:25<00:00,  2.56s/it, best loss: 0.7459300492610831]\n",
      "100%|██████████| 10/10 [00:12<00:00,  1.30s/it, best loss: 5.570238297001279]\n",
      "100%|██████████| 10/10 [00:21<00:00,  2.12s/it, best loss: 0.7853943896308069]\n",
      "100%|██████████| 10/10 [00:09<00:00,  1.11it/s, best loss: 0.8972026489549183]\n",
      "100%|██████████| 10/10 [00:19<00:00,  1.96s/it, best loss: 1.2192344412042375]\n",
      "100%|██████████| 10/10 [00:20<00:00,  2.07s/it, best loss: 1.3670808534229058]\n",
      "100%|██████████| 10/10 [00:23<00:00,  2.36s/it, best loss: 1.2846833050220814]\n",
      "100%|██████████| 10/10 [00:05<00:00,  1.69it/s, best loss: 1.3631212660780774]\n",
      "100%|██████████| 10/10 [00:26<00:00,  2.62s/it, best loss: 1.9591521196086226]\n",
      "100%|██████████| 10/10 [00:16<00:00,  1.66s/it, best loss: 0.4232511784742616]\n",
      "100%|██████████| 10/10 [00:34<00:00,  3.42s/it, best loss: 0.9103225289563681]\n",
      "100%|██████████| 10/10 [00:10<00:00,  1.08s/it, best loss: 3.1188480400342478]\n",
      "100%|██████████| 10/10 [00:30<00:00,  3.04s/it, best loss: 1.476629522115122]\n",
      "100%|██████████| 10/10 [00:27<00:00,  2.72s/it, best loss: 0.4486879736661113]\n",
      "100%|██████████| 10/10 [00:29<00:00,  2.98s/it, best loss: 1.3362820530419246]\n",
      "100%|██████████| 10/10 [00:12<00:00,  1.23s/it, best loss: 5.84568882798907]\n",
      "100%|██████████| 10/10 [00:26<00:00,  2.64s/it, best loss: 1.7996622245392155]\n",
      "100%|██████████| 10/10 [00:19<00:00,  1.97s/it, best loss: 1.7777182422516116]\n",
      "100%|██████████| 10/10 [00:28<00:00,  2.87s/it, best loss: 3.129348563839767]\n",
      "100%|██████████| 10/10 [00:22<00:00,  2.25s/it, best loss: 0.947526192179736]\n",
      "100%|██████████| 10/10 [00:09<00:00,  1.08it/s, best loss: 0.7488576084307821]\n",
      "100%|██████████| 10/10 [00:21<00:00,  2.16s/it, best loss: 0.65206017177579] \n",
      "100%|██████████| 10/10 [00:26<00:00,  2.65s/it, best loss: 5.981201100254758]\n",
      "100%|██████████| 10/10 [00:27<00:00,  2.71s/it, best loss: 2.3697734357240723]\n",
      "100%|██████████| 10/10 [00:23<00:00,  2.31s/it, best loss: 0.6877563114049934]\n",
      "100%|██████████| 10/10 [00:12<00:00,  1.28s/it, best loss: 1.440574540827391]\n",
      "100%|██████████| 10/10 [00:17<00:00,  1.73s/it, best loss: 1.7080750723875116]\n",
      "100%|██████████| 10/10 [00:15<00:00,  1.54s/it, best loss: 0.9118410901190662]\n",
      "100%|██████████| 10/10 [00:32<00:00,  3.21s/it, best loss: 2.731279539023714]\n",
      "100%|██████████| 10/10 [00:28<00:00,  2.90s/it, best loss: 0.9418844687311702]\n",
      "100%|██████████| 10/10 [00:29<00:00,  2.94s/it, best loss: 0.8990942125268624]\n",
      "100%|██████████| 10/10 [00:24<00:00,  2.42s/it, best loss: 1.211446010078204]\n",
      "100%|██████████| 10/10 [00:30<00:00,  3.09s/it, best loss: 1.7374446053694759]\n",
      "100%|██████████| 10/10 [00:22<00:00,  2.22s/it, best loss: 1.23472994646539] \n",
      "100%|██████████| 10/10 [00:11<00:00,  1.19s/it, best loss: 1.6529213263189786]\n",
      "100%|██████████| 10/10 [00:08<00:00,  1.20it/s, best loss: 1.23893748767108] \n",
      "100%|██████████| 10/10 [00:31<00:00,  3.15s/it, best loss: 1.8297451676701306]\n",
      "100%|██████████| 10/10 [00:13<00:00,  1.33s/it, best loss: 6.469972842715672]\n",
      "100%|██████████| 10/10 [00:23<00:00,  2.39s/it, best loss: 0.9773754022011838]\n",
      "100%|██████████| 10/10 [00:18<00:00,  1.84s/it, best loss: 1.4990224258749265]\n",
      "100%|██████████| 10/10 [00:28<00:00,  2.83s/it, best loss: 1.9454020133736085]\n",
      "100%|██████████| 10/10 [00:06<00:00,  1.56it/s, best loss: 0.44801950873686164]\n",
      "100%|██████████| 10/10 [00:27<00:00,  2.78s/it, best loss: 1.80697474505702]\n",
      "100%|██████████| 10/10 [00:12<00:00,  1.30s/it, best loss: 0.5201937646433874]\n",
      "100%|██████████| 10/10 [00:25<00:00,  2.56s/it, best loss: 1.4788835602391]  \n",
      "100%|██████████| 10/10 [00:31<00:00,  3.14s/it, best loss: 1.8042068077204374]\n",
      "100%|██████████| 10/10 [00:26<00:00,  2.63s/it, best loss: 1.1088457601568873]\n",
      "100%|██████████| 10/10 [00:12<00:00,  1.24s/it, best loss: 1.627037360973454]\n",
      "100%|██████████| 10/10 [00:33<00:00,  3.33s/it, best loss: 0.929811824011606]\n",
      "100%|██████████| 10/10 [00:24<00:00,  2.45s/it, best loss: 1.9423071352745995]\n",
      "100%|██████████| 10/10 [00:27<00:00,  2.72s/it, best loss: 1.4009635976210923]\n",
      "100%|██████████| 10/10 [00:30<00:00,  3.01s/it, best loss: 2.923178062306372]\n",
      "100%|██████████| 10/10 [00:14<00:00,  1.48s/it, best loss: 1.347345077648318]\n",
      "100%|██████████| 10/10 [00:29<00:00,  3.00s/it, best loss: 2.944116262282237]\n",
      "100%|██████████| 10/10 [00:17<00:00,  1.73s/it, best loss: 0.5712587072799657]\n",
      "100%|██████████| 10/10 [00:18<00:00,  1.82s/it, best loss: 4.266818523944395]\n",
      "100%|██████████| 10/10 [00:15<00:00,  1.53s/it, best loss: 1.0994505942705646]\n",
      "100%|██████████| 10/10 [00:13<00:00,  1.31s/it, best loss: 2.2107811925660186]\n",
      "100%|██████████| 10/10 [00:27<00:00,  2.75s/it, best loss: 1.3511472411637042]\n",
      "100%|██████████| 10/10 [00:23<00:00,  2.32s/it, best loss: 1.1189021448724348]\n",
      "100%|██████████| 10/10 [00:07<00:00,  1.36it/s, best loss: 2.3798612243896144]\n",
      "100%|██████████| 10/10 [00:23<00:00,  2.37s/it, best loss: 1.7501983718634824]\n",
      "100%|██████████| 10/10 [00:26<00:00,  2.60s/it, best loss: 1.3700984056402739]\n",
      "100%|██████████| 10/10 [00:06<00:00,  1.64it/s, best loss: 0.3869985323887169]\n",
      "100%|██████████| 10/10 [00:25<00:00,  2.51s/it, best loss: 1.5552615267632937]\n",
      "100%|██████████| 10/10 [00:09<00:00,  1.01it/s, best loss: 0.9074445031404522]\n"
     ]
    },
    {
     "name": "stdout",
     "output_type": "stream",
     "text": [
      "100%|██████████| 10/10 [00:27<00:00,  2.77s/it, best loss: 1.474005187186657]\n",
      "100%|██████████| 10/10 [00:09<00:00,  1.09it/s, best loss: 0.7033920219354746]\n",
      "100%|██████████| 10/10 [00:11<00:00,  1.15s/it, best loss: 1.4160824324801202]\n",
      "100%|██████████| 10/10 [00:27<00:00,  2.74s/it, best loss: 1.4255568877086304]\n",
      "100%|██████████| 10/10 [00:16<00:00,  1.67s/it, best loss: 1.6571242153953487]\n",
      "100%|██████████| 10/10 [00:12<00:00,  1.21s/it, best loss: 1.0023775411383444]\n",
      "100%|██████████| 10/10 [00:22<00:00,  2.22s/it, best loss: 1.1516550252160325]\n",
      "100%|██████████| 10/10 [00:16<00:00,  1.64s/it, best loss: 2.9897359560558963]\n",
      "100%|██████████| 10/10 [00:29<00:00,  2.92s/it, best loss: 1.2624598128001674]\n",
      "100%|██████████| 10/10 [00:20<00:00,  2.06s/it, best loss: 1.419519443464979]\n",
      "100%|██████████| 10/10 [00:11<00:00,  1.19s/it, best loss: 1.8918693873930235]\n",
      "100%|██████████| 10/10 [00:32<00:00,  3.22s/it, best loss: 3.7469827311531922]\n",
      "100%|██████████| 10/10 [00:19<00:00,  1.90s/it, best loss: 0.7586490052578286]\n",
      "100%|██████████| 10/10 [00:22<00:00,  2.24s/it, best loss: 1.7484696731520355]\n",
      "100%|██████████| 10/10 [00:37<00:00,  3.72s/it, best loss: 0.9854910520323172]\n",
      "100%|██████████| 10/10 [00:24<00:00,  2.49s/it, best loss: 2.0631845530701423]\n",
      "100%|██████████| 10/10 [00:27<00:00,  2.72s/it, best loss: 0.8104744443209647]\n",
      "100%|██████████| 10/10 [00:20<00:00,  2.02s/it, best loss: 4.747735598496398]\n",
      "100%|██████████| 10/10 [00:21<00:00,  2.12s/it, best loss: 2.416013228435263]\n",
      "100%|██████████| 10/10 [00:39<00:00,  3.93s/it, best loss: 1.185011693570374]\n",
      "100%|██████████| 10/10 [00:24<00:00,  2.47s/it, best loss: 1.0624833192163534]\n",
      "100%|██████████| 10/10 [00:20<00:00,  2.04s/it, best loss: 0.7728228534043097]\n",
      "100%|██████████| 10/10 [00:25<00:00,  2.58s/it, best loss: 1.3399429940628953]\n",
      "100%|██████████| 10/10 [00:17<00:00,  1.78s/it, best loss: 1.9681523245543484]\n",
      "100%|██████████| 10/10 [00:32<00:00,  3.22s/it, best loss: 2.5185217597290963]\n",
      "100%|██████████| 10/10 [00:09<00:00,  1.07it/s, best loss: 0.7767847152864295]\n",
      "100%|██████████| 10/10 [00:20<00:00,  2.07s/it, best loss: 1.3814727513176435]\n",
      "100%|██████████| 10/10 [00:23<00:00,  2.30s/it, best loss: 0.749846253076401]\n",
      "100%|██████████| 10/10 [00:11<00:00,  1.12s/it, best loss: 1.2254125651472996]\n",
      "100%|██████████| 10/10 [00:35<00:00,  3.50s/it, best loss: 6.58910990668307] \n",
      "100%|██████████| 10/10 [00:29<00:00,  2.96s/it, best loss: 0.7526950032521117]\n",
      "100%|██████████| 10/10 [00:13<00:00,  1.33s/it, best loss: 2.0730463500335636]\n",
      "100%|██████████| 10/10 [00:19<00:00,  1.97s/it, best loss: 1.2822495827455718]\n",
      "100%|██████████| 10/10 [00:17<00:00,  1.75s/it, best loss: 0.8865654871893116]\n",
      "100%|██████████| 10/10 [00:30<00:00,  3.10s/it, best loss: 1.939797929445401]\n",
      "100%|██████████| 10/10 [00:21<00:00,  2.12s/it, best loss: 1.701764713206619]\n",
      "100%|██████████| 10/10 [00:21<00:00,  2.20s/it, best loss: 3.3213282117662533]\n",
      "100%|██████████| 10/10 [00:18<00:00,  1.85s/it, best loss: 0.9793241261476175]\n",
      "100%|██████████| 10/10 [00:32<00:00,  3.21s/it, best loss: 1.127101483600581]\n",
      "100%|██████████| 10/10 [00:08<00:00,  1.24it/s, best loss: 1.241636193107874]\n",
      "100%|██████████| 10/10 [00:08<00:00,  1.21it/s, best loss: 1.94218217569365] \n",
      "100%|██████████| 10/10 [00:26<00:00,  2.68s/it, best loss: 1.6293949713141147]\n",
      "100%|██████████| 10/10 [00:25<00:00,  2.58s/it, best loss: 4.797913438656573]\n",
      "100%|██████████| 10/10 [00:25<00:00,  2.54s/it, best loss: 1.0658364608323332]\n",
      "100%|██████████| 10/10 [00:19<00:00,  1.94s/it, best loss: 0.585140521658159]\n",
      "100%|██████████| 10/10 [00:27<00:00,  2.72s/it, best loss: 0.5877913755890238]\n",
      "100%|██████████| 10/10 [00:07<00:00,  1.25it/s, best loss: 1.843335333942875]\n",
      "100%|██████████| 10/10 [00:08<00:00,  1.19it/s, best loss: 0.5336158324589583]\n",
      "100%|██████████| 10/10 [00:23<00:00,  2.35s/it, best loss: 0.39510168727457495]\n",
      "100%|██████████| 10/10 [00:22<00:00,  2.24s/it, best loss: 0.9496725100261738]\n",
      "100%|██████████| 10/10 [00:23<00:00,  2.31s/it, best loss: 1.6345125552737074]\n",
      "100%|██████████| 10/10 [00:08<00:00,  1.17it/s, best loss: 1.2169166404532699]\n",
      "100%|██████████| 10/10 [00:14<00:00,  1.42s/it, best loss: 2.0591363766347657]\n",
      "100%|██████████| 10/10 [00:20<00:00,  2.08s/it, best loss: 1.2359324218487386]\n",
      "100%|██████████| 10/10 [00:07<00:00,  1.28it/s, best loss: 0.496745823113281]\n",
      "100%|██████████| 10/10 [00:11<00:00,  1.10s/it, best loss: 1.5368458843914363]\n",
      "100%|██████████| 10/10 [00:20<00:00,  2.07s/it, best loss: 1.4449601717106786]\n",
      "100%|██████████| 10/10 [00:22<00:00,  2.28s/it, best loss: 1.7440716465499697]\n",
      "100%|██████████| 10/10 [00:18<00:00,  1.81s/it, best loss: 1.5509443953495412]\n",
      "100%|██████████| 10/10 [00:10<00:00,  1.03s/it, best loss: 0.8331840002154033]\n",
      "100%|██████████| 10/10 [00:27<00:00,  2.75s/it, best loss: 2.8539399798839287]\n",
      "100%|██████████| 10/10 [00:18<00:00,  1.81s/it, best loss: 0.9270099027669535]\n",
      "100%|██████████| 10/10 [00:22<00:00,  2.25s/it, best loss: 0.8772099724310667]\n",
      "100%|██████████| 10/10 [00:12<00:00,  1.25s/it, best loss: 1.9542537454628026]\n",
      "100%|██████████| 10/10 [00:08<00:00,  1.22it/s, best loss: 1.7402832140839752]\n",
      "100%|██████████| 10/10 [00:07<00:00,  1.27it/s, best loss: 2.2132379384152197]\n",
      "100%|██████████| 10/10 [00:17<00:00,  1.79s/it, best loss: 0.857554183051268]\n",
      "100%|██████████| 10/10 [00:32<00:00,  3.27s/it, best loss: 1.0603298717244698]\n",
      "100%|██████████| 10/10 [00:34<00:00,  3.48s/it, best loss: 0.799667909574733]\n",
      "100%|██████████| 10/10 [00:10<00:00,  1.04s/it, best loss: 1.3155728477645356]\n",
      "100%|██████████| 10/10 [00:18<00:00,  1.81s/it, best loss: 1.1060932210815715]\n",
      "100%|██████████| 10/10 [00:21<00:00,  2.19s/it, best loss: 0.6678380282038898]\n",
      "100%|██████████| 10/10 [00:30<00:00,  3.08s/it, best loss: 3.5247872190274463]\n",
      "100%|██████████| 10/10 [00:25<00:00,  2.55s/it, best loss: 2.120493429597806]\n",
      "100%|██████████| 10/10 [00:27<00:00,  2.72s/it, best loss: 2.2627283764754034]\n",
      "100%|██████████| 10/10 [00:09<00:00,  1.04it/s, best loss: 0.6424538170193409]\n",
      " 40%|████      | 4/10 [00:05<00:10,  1.77s/it, best loss: 1.414817790409672]"
     ]
    }
   ],
   "source": [
    "#Copy to the sample (df_sam) = submit (df_sub)\n",
    "df_sub=df_sam.copy()\n",
    "\n",
    "#for i in tqdm(range(5)):\n",
    "for i in tqdm(range(len(df_sat))):\n",
    "    prediction(i)"
   ]
  },
  {
   "cell_type": "code",
   "execution_count": null,
   "metadata": {},
   "outputs": [],
   "source": []
  },
  {
   "cell_type": "markdown",
   "metadata": {},
   "source": [
    "## Test Zone"
   ]
  },
  {
   "cell_type": "code",
   "execution_count": null,
   "metadata": {},
   "outputs": [],
   "source": [
    "df_sub.iloc[30490:30505]"
   ]
  },
  {
   "cell_type": "markdown",
   "metadata": {},
   "source": [
    "### XGboost + HyperOpt"
   ]
  },
  {
   "cell_type": "code",
   "execution_count": 16,
   "metadata": {},
   "outputs": [],
   "source": [
    "import xgboost as xgb\n",
    "from hyperopt import fmin, hp, tpe, Trials, space_eval, STATUS_OK\n",
    "from hyperopt.pyll import scope as ho_scope\n",
    "from hyperopt.pyll.stochastic import sample as ho_sample"
   ]
  },
  {
   "cell_type": "code",
   "execution_count": 32,
   "metadata": {},
   "outputs": [],
   "source": [
    "space={\n",
    "    'n_estimators':hp.quniform('n_estimators', 10, 2000, 25),\n",
    "    'learning_rate':hp.uniform('learning_rate', 0.0001, 1.0),\n",
    "    'max_depth':hp.quniform('x_max_depth', 8, 32, 1),\n",
    "    'min_child_weight':hp.quniform('x_min_child', 1, 10, 1),\n",
    "    'subsample':hp.uniform('x_subsample', 0.7, 1),\n",
    "    'gamma':hp.uniform('x_gamma', 0.1, 0.5),\n",
    "    'reg_lambda':hp.uniform('x_reg_lambda', 0, 1)\n",
    "}"
   ]
  },
  {
   "cell_type": "code",
   "execution_count": 30,
   "metadata": {},
   "outputs": [],
   "source": [
    "from sklearn.model_selection import train_test_split as TTS\n",
    "from sklearn.metrics import mean_squared_error as MSE\n",
    "\n",
    "def xgbmodel(i,ShowMSE=False, max_evals =10):\n",
    "    def objetivo(space):\n",
    "        modelo=xgb.XGBRegressor(\n",
    "        n_estimators=int(space['n_estimators']),\n",
    "        learning_rate=space['learning_rate'],\n",
    "        max_depth=int(space['max_depth']),\n",
    "        min_child_weight=space['min_child_weight'],\n",
    "        subsample=space['subsample'],\n",
    "        gamma=space['gamma'],\n",
    "        reg_lambda=space['reg_lambda'],\n",
    "        objective='reg:squarederror'\n",
    "        )\n",
    "        eval_set=[(X_train, y_train), (X_test, y_test)]\n",
    "        modelo.fit(X_train, y_train, eval_set=eval_set, eval_metric='rmse', verbose=False)\n",
    "        y_pred=modelo.predict(X_test)\n",
    "        rmse=MSE(y_test, y_pred)**0.5\n",
    "        return {'loss':rmse, 'status':STATUS_OK}\n",
    "\n",
    "    trials_reg=Trials()\n",
    "    Xy=list_df_sell[i].copy()\n",
    "\n",
    "    #Stracting X_test\n",
    "    X_test=Xy.drop(columns=['day_sell'])[1913:]\n",
    "\n",
    "    #Remove Nones for all the sample  from X and y in the sell price\n",
    "    Xy.sell_price=Xy.sell_price.astype(float)\n",
    "    Xy=Xy[(Xy.sell_price>0) & (Xy.day_sell >=0)]\n",
    "\n",
    "    #Prepare X_train and y_train\n",
    "    X,y = Xy.drop(columns=['day_sell']), Xy.day_sell\n",
    "    \n",
    "    \n",
    "\n",
    "    X_train, X_test, y_train, y_test = TTS(X,y, test_size = 0.2, shuffle=False)\n",
    "    best=fmin(fn=objetivo, space=space, algo=tpe.suggest, max_evals=max_evals, trials=Trials())\n",
    "\n",
    "    #Train with complete data set and founded hyperparameters\n",
    "\n",
    "    modelo=xgb.XGBRegressor(\n",
    "        n_estimators=int(best['n_estimators']),\n",
    "        learning_rate=best['learning_rate'],\n",
    "        x_max_depth=int(best['x_max_depth']),\n",
    "        x_min_child=best['x_min_child'],\n",
    "        x_subsample=best['x_subsample'],\n",
    "        x_gamma=best['x_gamma'],\n",
    "        x_reg_lambda=best['x_reg_lambda'],\n",
    "        objective='reg:squarederror'\n",
    "        )\n",
    "\n",
    "    #Checking MSE\n",
    "    \n",
    "    if ShowMSE==True:\n",
    "        modelo.fit(X_train, y_train)\n",
    "        y_pred=modelo.predict(X_test)\n",
    "        print(MSE(y_test, y_pred))\n",
    "    else:\n",
    "        pass\n",
    "    \n",
    "    \n",
    "    #Defining new X_train and y_train to train with the all dataset\n",
    "    Xy=list_df_sell[i].copy()\n",
    "\n",
    "    #Stracting X_test\n",
    "    X_test=Xy.drop(columns=['day_sell'])[1913:]\n",
    "    X_test.sell_price=X_test.sell_price.astype(float)\n",
    "\n",
    "    #Remove Nones for all the sample  from X and y in the sell price\n",
    "    Xy.sell_price=Xy.sell_price.astype(float)\n",
    "    Xy=Xy[(Xy.sell_price>0) & (Xy.day_sell >=0)]\n",
    "\n",
    "    #Prepare X_train and y_train\n",
    "    X,y = Xy.drop(columns=['day_sell']), Xy.day_sell\n",
    "    \n",
    "    \n",
    "    #Final Train\n",
    "    m=xgb.XGBRegressor()\n",
    "    m.fit(X_train,y_train)\n",
    "    y_pred=m.predict(X_test)\n",
    "    \n",
    "    #Negative remover by 0\n",
    "    #y_pred=np.array(list((map(lambda x: 0 if x<0 else x,y_pred))))\n",
    "    \n",
    "    return y_pred"
   ]
  },
  {
   "cell_type": "raw",
   "metadata": {},
   "source": [
    "y_pred=xgbmodel(1,True)\n",
    "y_pred"
   ]
  },
  {
   "cell_type": "code",
   "execution_count": null,
   "metadata": {},
   "outputs": [],
   "source": []
  },
  {
   "cell_type": "code",
   "execution_count": null,
   "metadata": {},
   "outputs": [],
   "source": []
  }
 ],
 "metadata": {
  "kernelspec": {
   "display_name": "Python 3",
   "language": "python",
   "name": "python3"
  },
  "language_info": {
   "codemirror_mode": {
    "name": "ipython",
    "version": 3
   },
   "file_extension": ".py",
   "mimetype": "text/x-python",
   "name": "python",
   "nbconvert_exporter": "python",
   "pygments_lexer": "ipython3",
   "version": "3.6.10"
  }
 },
 "nbformat": 4,
 "nbformat_minor": 4
}
